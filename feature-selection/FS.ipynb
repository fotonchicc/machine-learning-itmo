{
 "cells": [
  {
   "cell_type": "markdown",
   "id": "bbae1ea2-d862-4b02-9096-6891a25343de",
   "metadata": {},
   "source": [
    "## 1. Загрузка датасета"
   ]
  },
  {
   "cell_type": "code",
   "execution_count": 1,
   "id": "551e6cf3-5623-4c6b-acca-495f856b4cbb",
   "metadata": {},
   "outputs": [],
   "source": [
    "# !pip install -U nltk pymorphy3 pymorphy3-dicts-ru\n",
    "# !pip install openTSNE"
   ]
  },
  {
   "cell_type": "code",
   "execution_count": 697,
   "id": "f72682a7-3241-441f-a626-252a1f030ed2",
   "metadata": {},
   "outputs": [],
   "source": [
    "from sklearn.preprocessing import OrdinalEncoder, OneHotEncoder, MinMaxScaler, LabelEncoder\n",
    "from category_encoders.binary import BinaryEncoder\n",
    "from sklearn.linear_model import LogisticRegression\n",
    "from sklearn.tree import DecisionTreeClassifier\n",
    "from sklearn.svm import SVC\n",
    "from sklearn.ensemble import RandomForestClassifier\n",
    "from sklearn.model_selection import train_test_split, cross_val_score, StratifiedKFold\n",
    "import pandas as pd\n",
    "import numpy as np\n",
    "import seaborn as sns\n",
    "import matplotlib.pyplot as plt\n",
    "import scipy.stats as stats\n",
    "from sklearn.feature_extraction.text import CountVectorizer, TfidfVectorizer\n",
    "from sklearn.feature_selection import VarianceThreshold, SelectKBest, chi2, SelectFromModel, SequentialFeatureSelector, RFE\n",
    "import pymorphy3\n",
    "import re\n",
    "from sklearn.pipeline import Pipeline\n",
    "from openTSNE import TSNE\n",
    "from sklearn.decomposition import PCA\n",
    "from collections import Counter\n",
    "from sklearn.metrics import silhouette_score, v_measure_score\n",
    "from sklearn.preprocessing import StandardScaler"
   ]
  },
  {
   "cell_type": "code",
   "execution_count": 699,
   "id": "28083092-6560-45ea-8547-12a6d19b2ae4",
   "metadata": {},
   "outputs": [],
   "source": [
    "file_path = 'data.tsv'\n",
    "df_base = pd.read_csv(file_path, sep='\\t')\n",
    "df = df_base.iloc[:, [1, 2]]"
   ]
  },
  {
   "cell_type": "code",
   "execution_count": 701,
   "id": "33ad1e3c-1ad6-4015-8601-fcf1a9030f0e",
   "metadata": {},
   "outputs": [
    {
     "data": {
      "text/html": [
       "<div>\n",
       "<style scoped>\n",
       "    .dataframe tbody tr th:only-of-type {\n",
       "        vertical-align: middle;\n",
       "    }\n",
       "\n",
       "    .dataframe tbody tr th {\n",
       "        vertical-align: top;\n",
       "    }\n",
       "\n",
       "    .dataframe thead th {\n",
       "        text-align: right;\n",
       "    }\n",
       "</style>\n",
       "<table border=\"1\" class=\"dataframe\">\n",
       "  <thead>\n",
       "    <tr style=\"text-align: right;\">\n",
       "      <th></th>\n",
       "      <th>Replacement_period</th>\n",
       "      <th>Description</th>\n",
       "    </tr>\n",
       "  </thead>\n",
       "  <tbody>\n",
       "    <tr>\n",
       "      <th>0</th>\n",
       "      <td>две недели</td>\n",
       "      <td>Acuvue Oasys (Акувью Оазис)\\nДвухнедельные лин...</td>\n",
       "    </tr>\n",
       "    <tr>\n",
       "      <th>1</th>\n",
       "      <td>один месяц</td>\n",
       "      <td>Новые контактные линзы плановой замены AIR OPT...</td>\n",
       "    </tr>\n",
       "    <tr>\n",
       "      <th>2</th>\n",
       "      <td>один месяц</td>\n",
       "      <td>Ежемесячные контактные линзы TOTAL30 от Alcon ...</td>\n",
       "    </tr>\n",
       "    <tr>\n",
       "      <th>3</th>\n",
       "      <td>один день</td>\n",
       "      <td>Силикон-гидрогелевые контактные линзы для корр...</td>\n",
       "    </tr>\n",
       "    <tr>\n",
       "      <th>4</th>\n",
       "      <td>один месяц</td>\n",
       "      <td>Торические ежемесячные контактные линзы TOTAL3...</td>\n",
       "    </tr>\n",
       "  </tbody>\n",
       "</table>\n",
       "</div>"
      ],
      "text/plain": [
       "  Replacement_period                                        Description\n",
       "0         две недели  Acuvue Oasys (Акувью Оазис)\\nДвухнедельные лин...\n",
       "1         один месяц  Новые контактные линзы плановой замены AIR OPT...\n",
       "2         один месяц  Ежемесячные контактные линзы TOTAL30 от Alcon ...\n",
       "3          один день  Силикон-гидрогелевые контактные линзы для корр...\n",
       "4         один месяц  Торические ежемесячные контактные линзы TOTAL3..."
      ]
     },
     "execution_count": 701,
     "metadata": {},
     "output_type": "execute_result"
    }
   ],
   "source": [
    "df.head()"
   ]
  },
  {
   "cell_type": "code",
   "execution_count": 703,
   "id": "32b88c82-b374-464c-a8ed-67156db230e5",
   "metadata": {},
   "outputs": [
    {
     "data": {
      "text/plain": [
       "(52627, 2)"
      ]
     },
     "execution_count": 703,
     "metadata": {},
     "output_type": "execute_result"
    }
   ],
   "source": [
    "df.shape"
   ]
  },
  {
   "cell_type": "code",
   "execution_count": 705,
   "id": "7e522f11-4033-4db9-840b-c4e422143844",
   "metadata": {},
   "outputs": [],
   "source": [
    "# Удалим дубликаты записей, если они присутствуют\n",
    "df = df.drop_duplicates()"
   ]
  },
  {
   "cell_type": "code",
   "execution_count": 707,
   "id": "6618c2ac-ff25-41b7-b3e3-fc4558fd6a4d",
   "metadata": {},
   "outputs": [
    {
     "data": {
      "text/plain": [
       "(96, 2)"
      ]
     },
     "execution_count": 707,
     "metadata": {},
     "output_type": "execute_result"
    }
   ],
   "source": [
    "df.shape"
   ]
  },
  {
   "cell_type": "markdown",
   "id": "fa3546c0-4fec-4240-8b2c-d70d14c33ae8",
   "metadata": {},
   "source": [
    "## Векторизация набора данных"
   ]
  },
  {
   "cell_type": "code",
   "execution_count": 710,
   "id": "571c8cfb-2057-45cb-b83e-66982063cd5c",
   "metadata": {},
   "outputs": [],
   "source": [
    "texts = df['Description']  \n",
    "y = df['Replacement_period']"
   ]
  },
  {
   "cell_type": "code",
   "execution_count": 712,
   "id": "44366991-576b-4508-a4b7-38ab58ade579",
   "metadata": {},
   "outputs": [],
   "source": [
    "morph = pymorphy3.MorphAnalyzer()"
   ]
  },
  {
   "cell_type": "code",
   "execution_count": 714,
   "id": "537e2348-72a2-4bee-b9df-c7708e0a8dac",
   "metadata": {},
   "outputs": [],
   "source": [
    "# Функция лемматизации\n",
    "def lemmatize_text(text):\n",
    "    # Удаляем все кроме букв, цифр и пробелов\n",
    "    text = re.sub(r'[^а-яА-Яa-zA-Z0-9\\s]', '', text)\n",
    "    # Разбиваем текст на слова\n",
    "    words = text.split()\n",
    "    # Лемматизируем каждое слово\n",
    "    lemmas = [morph.parse(word)[0].normal_form for word in words]\n",
    "    # Объединяем в текст\n",
    "    return ' '.join(lemmas)"
   ]
  },
  {
   "cell_type": "code",
   "execution_count": 716,
   "id": "67ca4469-7556-42cc-878d-44f9e4920a40",
   "metadata": {},
   "outputs": [],
   "source": [
    "texts_lemmatized = [lemmatize_text(text) for text in texts]"
   ]
  },
  {
   "cell_type": "code",
   "execution_count": 717,
   "id": "fc20f5b4-e76b-45e2-b677-b698a0a470fb",
   "metadata": {},
   "outputs": [],
   "source": [
    "vectorizer = TfidfVectorizer(encoding='utf8', min_df=1, max_df=0.9)\n",
    "X_tr = vectorizer.fit_transform(texts_lemmatized)"
   ]
  },
  {
   "cell_type": "code",
   "execution_count": 718,
   "id": "aa6d9d7b-8baf-4b21-b5d4-5558fffe54a5",
   "metadata": {},
   "outputs": [
    {
     "name": "stdout",
     "output_type": "stream",
     "text": [
      "         000   05  075   10       100        12  123индикатор  128  134   14  \\\n",
      "0   0.000000  0.0  0.0  0.0  0.070543  0.000000           0.0  0.0  0.0  0.0   \n",
      "1   0.000000  0.0  0.0  0.0  0.000000  0.000000           0.0  0.0  0.0  0.0   \n",
      "2   0.000000  0.0  0.0  0.0  0.000000  0.000000           0.0  0.0  0.0  0.0   \n",
      "3   0.000000  0.0  0.0  0.0  0.000000  0.000000           0.0  0.0  0.0  0.0   \n",
      "4   0.000000  0.0  0.0  0.0  0.000000  0.000000           0.0  0.0  0.0  0.0   \n",
      "..       ...  ...  ...  ...       ...       ...           ...  ...  ...  ...   \n",
      "91  0.000000  0.0  0.0  0.0  0.000000  0.000000           0.0  0.0  0.0  0.0   \n",
      "92  0.000000  0.0  0.0  0.0  0.000000  0.068405           0.0  0.0  0.0  0.0   \n",
      "93  0.000000  0.0  0.0  0.0  0.046320  0.000000           0.0  0.0  0.0  0.0   \n",
      "94  0.345667  0.0  0.0  0.0  0.000000  0.000000           0.0  0.0  0.0  0.0   \n",
      "95  0.347855  0.0  0.0  0.0  0.000000  0.000000           0.0  0.0  0.0  0.0   \n",
      "\n",
      "    ...  этафилкон       это      этот  эффект  являться     яркий  ярко  \\\n",
      "0   ...        0.0  0.089307  0.000000     0.0       0.0  0.000000   0.0   \n",
      "1   ...        0.0  0.053526  0.037647     0.0       0.0  0.000000   0.0   \n",
      "2   ...        0.0  0.047358  0.000000     0.0       0.0  0.000000   0.0   \n",
      "3   ...        0.0  0.074092  0.052113     0.0       0.0  0.000000   0.0   \n",
      "4   ...        0.0  0.030815  0.000000     0.0       0.0  0.000000   0.0   \n",
      "..  ...        ...       ...       ...     ...       ...       ...   ...   \n",
      "91  ...        0.0  0.033000  0.000000     0.0       0.0  0.000000   0.0   \n",
      "92  ...        0.0  0.000000  0.000000     0.0       0.0  0.000000   0.0   \n",
      "93  ...        0.0  0.019547  0.000000     0.0       0.0  0.000000   0.0   \n",
      "94  ...        0.0  0.024500  0.000000     0.0       0.0  0.066316   0.0   \n",
      "95  ...        0.0  0.024655  0.034682     0.0       0.0  0.000000   0.0   \n",
      "\n",
      "        ясно  ясность  ясный  \n",
      "0   0.000000      0.0    0.0  \n",
      "1   0.000000      0.0    0.0  \n",
      "2   0.000000      0.0    0.0  \n",
      "3   0.000000      0.0    0.0  \n",
      "4   0.000000      0.0    0.0  \n",
      "..       ...      ...    ...  \n",
      "91  0.000000      0.0    0.0  \n",
      "92  0.073495      0.0    0.0  \n",
      "93  0.000000      0.0    0.0  \n",
      "94  0.000000      0.0    0.0  \n",
      "95  0.000000      0.0    0.0  \n",
      "\n",
      "[96 rows x 1487 columns]\n"
     ]
    }
   ],
   "source": [
    "# Получение имён признаков\n",
    "feature_names = vectorizer.get_feature_names_out()\n",
    "\n",
    "# Преобразование в pandas.DataFrame\n",
    "X = pd.DataFrame(X_tr.toarray(), columns=feature_names)\n",
    "print(X)"
   ]
  },
  {
   "cell_type": "code",
   "execution_count": 721,
   "id": "682efd53-2681-49f0-8890-ce2faa0e539b",
   "metadata": {},
   "outputs": [
    {
     "data": {
      "text/plain": [
       "142752"
      ]
     },
     "execution_count": 721,
     "metadata": {},
     "output_type": "execute_result"
    }
   ],
   "source": [
    "X.size"
   ]
  },
  {
   "cell_type": "code",
   "execution_count": 724,
   "id": "ee2c1dff-cda5-46b1-b8fb-f790c2a2f503",
   "metadata": {},
   "outputs": [
    {
     "data": {
      "text/plain": [
       "array(['две недели', 'один месяц', 'один день', 'три месяца'],\n",
       "      dtype=object)"
      ]
     },
     "execution_count": 724,
     "metadata": {},
     "output_type": "execute_result"
    }
   ],
   "source": [
    "# Преобразование целевой переменной\n",
    "y.unique()"
   ]
  },
  {
   "cell_type": "code",
   "execution_count": 726,
   "id": "c148a059-972c-4ecf-818d-44a86055d940",
   "metadata": {},
   "outputs": [],
   "source": [
    "y = np.where(y.isin(['один день', 'две недели']), 0, 1)"
   ]
  },
  {
   "cell_type": "code",
   "execution_count": 728,
   "id": "e6d0c3c4-5b20-4cb6-b12d-d81cf616c043",
   "metadata": {},
   "outputs": [
    {
     "name": "stdout",
     "output_type": "stream",
     "text": [
      "[0 1 1 0 1 1 0 0 0 0 0 0 0 0 0 0 0 0 0 1 1 0 0 0 1 0 1 1 0 0 0 0 1 0 0 1 1\n",
      " 1 1 0 1 0 0 0 1 0 1 0 1 0 0 0 1 0 1 0 0 0 1 1 1 0 1 0 1 1 1 0 1 1 1 1 1 1\n",
      " 1 0 0 1 1 1 0 1 1 1 0 0 1 0 0 0 1 1 0 1 1 1]\n"
     ]
    }
   ],
   "source": [
    "print(y)"
   ]
  },
  {
   "cell_type": "code",
   "execution_count": 730,
   "id": "d10c9508-2cb7-4681-aaed-7daf1a247d3d",
   "metadata": {},
   "outputs": [
    {
     "name": "stdout",
     "output_type": "stream",
     "text": [
      "Класс 0 составляет 52.1%,\n",
      " класс 1 составляет 47.9%\n"
     ]
    }
   ],
   "source": [
    "# посчитаем дисбаланс классов\n",
    "y_pd = pd.Series(y)\n",
    "total = y_pd.shape[0]\n",
    "class_0, class_1 = y_pd.value_counts()\n",
    "print(f'Класс 0 составляет {round(class_0 / total, 3)*100}%,\\n класс 1 составляет {round(class_1 / total, 3)*100}%')"
   ]
  },
  {
   "cell_type": "markdown",
   "id": "1150b34d-2f33-4ee4-916b-3546dc390798",
   "metadata": {},
   "source": [
    "## Выбор наиболее значимых признаков"
   ]
  },
  {
   "cell_type": "markdown",
   "id": "833fd8aa-1465-4d23-8dd3-8d29af772afd",
   "metadata": {},
   "source": [
    "### Встроенные метода"
   ]
  },
  {
   "cell_type": "markdown",
   "id": "dcdb1165-c4ef-4d1d-af09-f3f02dddf2bb",
   "metadata": {},
   "source": [
    "#### 1) Библиотечная реализация"
   ]
  },
  {
   "cell_type": "code",
   "execution_count": 735,
   "id": "26a29954-910a-4aad-b422-1d81841aadd7",
   "metadata": {},
   "outputs": [],
   "source": [
    "# Lasso (Logistic Regression с L1 регуляризацией)\n",
    "def lasso_feature_selection(X, y, top_n=30):\n",
    "    model = LogisticRegression(penalty='l1', solver='liblinear', C=0.1, random_state=42)\n",
    "    model.fit(X, y)\n",
    "    \n",
    "    # Коэффициенты модели\n",
    "    feature_importance = np.abs(model.coef_).sum(axis=0)\n",
    "    \n",
    "    # Сортируем признаки по важности\n",
    "    top_features_idx = np.argsort(feature_importance)[-top_n:]\n",
    "    top_features = [X.columns[i] for i in top_features_idx]\n",
    "    \n",
    "    return top_features"
   ]
  },
  {
   "cell_type": "code",
   "execution_count": 737,
   "id": "c45c2e04-67e9-4126-99f5-b4d02509b9a9",
   "metadata": {},
   "outputs": [],
   "source": [
    "top_features_embedded_1 = lasso_feature_selection(X, y, top_n=30)"
   ]
  },
  {
   "cell_type": "code",
   "execution_count": 739,
   "id": "012836da-5b68-4473-8ab5-78a4480ccdf4",
   "metadata": {},
   "outputs": [
    {
     "name": "stdout",
     "output_type": "stream",
     "text": [
      "Топ-30 признаков по методу Lasso:\n",
      "['900', '95', '9611333', '99', 'acuvue', 'air', 'alcon', '55', '56', '58', '59', '6pk', '78', '84', '87', 'эластичный', 'электронный', 'элемент', 'эра', 'этафилкон', 'это', 'этот', 'эффект', 'являться', 'яркий', 'ярко', 'ясно', 'ясность', 'ясный', '000']\n"
     ]
    }
   ],
   "source": [
    "# Вывод топ-30 признаков\n",
    "print(\"Топ-30 признаков по методу Lasso:\")\n",
    "print(top_features_embedded_1)"
   ]
  },
  {
   "cell_type": "code",
   "execution_count": null,
   "id": "57cde9d5",
   "metadata": {},
   "outputs": [],
   "source": []
  },
  {
   "cell_type": "markdown",
   "id": "d77d186b-599b-47c7-8996-ac7b26028182",
   "metadata": {},
   "source": [
    "#### 2) Собственная реализация "
   ]
  },
  {
   "cell_type": "code",
   "execution_count": 743,
   "id": "ba931e5d-500e-40c4-a2be-132871044796",
   "metadata": {},
   "outputs": [],
   "source": [
    "class DecisionTreeNode:\n",
    "    def __init__(self, feature=None, threshold=None, left=None, right=None, value=None):\n",
    "        self.feature = feature\n",
    "        self.threshold = threshold\n",
    "        self.left = left\n",
    "        self.right = right\n",
    "        self.value = value\n",
    "\n",
    "class DecisionTreeClassifierCustom:\n",
    "    def __init__(self, min_samples_split=2, min_samples_leaf=1, max_leaf_nodes=None, max_depth=None, criterion='gini'):\n",
    "        self.min_samples_split = min_samples_split\n",
    "        self.min_samples_leaf = min_samples_leaf\n",
    "        self.max_leaf_nodes = max_leaf_nodes\n",
    "        self.max_depth = max_depth\n",
    "        self.criterion = criterion\n",
    "        self.tree = None\n",
    "        self.current_leaf_count = 0\n",
    "        self.feature_importances_ = None  # Массив для хранения важности признаков\n",
    "\n",
    "    def fit(self, X, y):\n",
    "        self.current_leaf_count = 0\n",
    "        self.feature_importances_ = np.zeros(X.shape[1])  # Инициализируем массив с нулями\n",
    "        self.tree = self._build_tree(X, y)\n",
    "\n",
    "    def _build_tree(self, X, y, depth=0):\n",
    "        num_samples, num_features = X.shape\n",
    "        num_classes = len(set(y))\n",
    "\n",
    "        # Условия остановки\n",
    "        if (\n",
    "            num_samples < self.min_samples_split or\n",
    "            num_classes == 1 or\n",
    "            (self.max_depth is not None and depth >= self.max_depth) or\n",
    "            (self.max_leaf_nodes is not None and self.current_leaf_count >= self.max_leaf_nodes)\n",
    "        ):\n",
    "            self.current_leaf_count += 1\n",
    "            return DecisionTreeNode(value=Counter(y).most_common(1)[0][0])\n",
    "\n",
    "        # Поиск лучшего разбиения\n",
    "        best_feature, best_threshold, best_gain = None, None, -float(\"inf\")\n",
    "        for feature_idx in range(num_features):\n",
    "            thresholds = np.unique(X[:, feature_idx])\n",
    "            for threshold in thresholds:\n",
    "                gain = self._information_gain(y, X[:, feature_idx], threshold)\n",
    "                if gain > best_gain:\n",
    "                    best_feature, best_threshold, best_gain = feature_idx, threshold, gain\n",
    "\n",
    "        # Если нет улучшений\n",
    "        if best_gain == -float(\"inf\"):\n",
    "            self.current_leaf_count += 1\n",
    "            return DecisionTreeNode(value=Counter(y).most_common(1)[0][0])\n",
    "\n",
    "        # Увеличиваем важность признака, который был выбран для разбиения\n",
    "        self.feature_importances_[best_feature] += best_gain\n",
    "\n",
    "        # Разделение данных\n",
    "        left_indices = X[:, best_feature] <= best_threshold\n",
    "        right_indices = X[:, best_feature] > best_threshold\n",
    "\n",
    "        # Проверка минимального размера листа\n",
    "        if sum(left_indices) < self.min_samples_leaf or sum(right_indices) < self.min_samples_leaf:\n",
    "            self.current_leaf_count += 1\n",
    "            return DecisionTreeNode(value=Counter(y).most_common(1)[0][0])\n",
    "\n",
    "        left_child = self._build_tree(X[left_indices], y[left_indices], depth + 1)\n",
    "        right_child = self._build_tree(X[right_indices], y[right_indices], depth + 1)\n",
    "        return DecisionTreeNode(feature=best_feature, threshold=best_threshold, left=left_child, right=right_child)\n",
    "\n",
    "    def _gini(self, y):\n",
    "        class_counts = np.bincount(y)\n",
    "        probabilities = class_counts / len(y)\n",
    "        return 1 - np.sum(probabilities ** 2)\n",
    "\n",
    "    def _entropy(self, y):\n",
    "        class_counts = np.bincount(y)\n",
    "        probabilities = class_counts / len(y)\n",
    "        return -np.sum(probabilities * np.log2(probabilities + 1e-9))\n",
    "\n",
    "    def _information_gain(self, y, feature_values, threshold):\n",
    "        parent_loss = self._gini(y) if self.criterion == \"gini\" else self._entropy(y)\n",
    "        left_indices = feature_values <= threshold\n",
    "        right_indices = feature_values > threshold\n",
    "\n",
    "        if len(y[left_indices]) == 0 or len(y[right_indices]) == 0:\n",
    "            return 0\n",
    "\n",
    "        left_loss = self._gini(y[left_indices]) if self.criterion == \"gini\" else self._entropy(y[left_indices])\n",
    "        right_loss = self._gini(y[right_indices]) if self.criterion == \"gini\" else self._entropy(y[right_indices])\n",
    "\n",
    "        child_loss = (len(y[left_indices]) / len(y)) * left_loss + (len(y[right_indices]) / len(y)) * right_loss\n",
    "        return parent_loss - child_loss\n",
    "\n",
    "    def predict(self, X):\n",
    "        return np.array([self._predict_one(row, self.tree) for row in X])\n",
    "\n",
    "    def _predict_one(self, row, node):\n",
    "        if node.value is not None:\n",
    "            return node.value\n",
    "        if row[node.feature] <= node.threshold:\n",
    "            return self._predict_one(row, node.left)\n",
    "        else:\n",
    "            return self._predict_one(row, node.right)\n",
    "\n",
    "    def get_depth(self):\n",
    "        return self._get_depth(self.tree)\n",
    "\n",
    "    def _get_depth(self, node):\n",
    "        if node is None or node.value is not None:\n",
    "            return 0\n",
    "        return 1 + max(self._get_depth(node.left), self._get_depth(node.right))\n",
    "\n",
    "    def get_feature_importances(self):\n",
    "        # Нормализуем важности признаков\n",
    "        total_importance = np.sum(self.feature_importances_)\n",
    "        if total_importance == 0:\n",
    "            return np.zeros_like(self.feature_importances_)\n",
    "        return self.feature_importances_ / total_importance"
   ]
  },
  {
   "cell_type": "code",
   "execution_count": 745,
   "id": "100bc227-a108-4f4b-ab98-e12f72b0a85d",
   "metadata": {},
   "outputs": [],
   "source": [
    "# Decision Tree (оценка важности признаков)\n",
    "def tree_feature_selection(X, y, top_n=30):\n",
    "    # Обучение дерева решений\n",
    "    tree = DecisionTreeClassifierCustom(min_samples_split=5, min_samples_leaf=2, max_depth=3, max_leaf_nodes=10)\n",
    "    tree.fit(X.to_numpy(), y)\n",
    "    \n",
    "    # Важность признаков\n",
    "    feature_importances = tree.get_feature_importances()\n",
    "    print(len(feature_importances))\n",
    "    # Находим топ-30 признаков\n",
    "    top_30_indices = np.argsort(feature_importances)[-top_n:][::-1]\n",
    "    top_features = [X.columns[idx] for idx in top_30_indices]\n",
    "\n",
    "    return top_features"
   ]
  },
  {
   "cell_type": "code",
   "execution_count": 747,
   "id": "5c287608-9097-403a-824d-8115e364fcbd",
   "metadata": {},
   "outputs": [
    {
     "name": "stdout",
     "output_type": "stream",
     "text": [
      "1487\n"
     ]
    }
   ],
   "source": [
    "top_features_embedded_2 = tree_feature_selection(X, y, top_n=30)"
   ]
  },
  {
   "cell_type": "code",
   "execution_count": 749,
   "id": "bc302662-9695-4690-8f30-40915fdbc1a6",
   "metadata": {},
   "outputs": [
    {
     "name": "stdout",
     "output_type": "stream",
     "text": [
      "Топ-30 признаков по методу Decision Tree:\n",
      "['30', 'acuvue', '90', '3в1', 'звонить', 'звонок', 'здоровый', 'здоровье', 'зелёный', 'значение', 'значит', 'значительно', 'значительный', 'зона', 'заявка', 'зрение', 'зрительный', 'игра', 'играть', 'идеально', 'идеальный', 'из', 'избавить', 'избавлять', 'избежать', 'известный', 'зрачок', 'заключаться', 'заключить', 'закруглить']\n"
     ]
    }
   ],
   "source": [
    "# Вывод топ-30 признаков\n",
    "print(\"Топ-30 признаков по методу Decision Tree:\")\n",
    "print(top_features_embedded_2)"
   ]
  },
  {
   "cell_type": "code",
   "execution_count": 751,
   "id": "8b7af29b-a777-4985-a792-5c48805591a1",
   "metadata": {},
   "outputs": [
    {
     "name": "stdout",
     "output_type": "stream",
     "text": [
      "Число общих признаков: 1 из 30\n",
      "Общие признаки, отобранные обоими методами:\n",
      "{'acuvue'}\n"
     ]
    }
   ],
   "source": [
    "# Сравним признаки, отобранные обоими методами:\n",
    "# Находим общие признаки\n",
    "common_features = set(top_features_embedded_1) & set(top_features_embedded_2)\n",
    "\n",
    "# Выводим общие признаки и их количество\n",
    "print(f\"Число общих признаков: {len(common_features)} из 30\")\n",
    "print(\"Общие признаки, отобранные обоими методами:\")\n",
    "print(common_features)"
   ]
  },
  {
   "cell_type": "markdown",
   "id": "e599b25d-0585-4c24-8641-613bd2bf340f",
   "metadata": {},
   "source": [
    "### Методы фильтрации"
   ]
  },
  {
   "cell_type": "markdown",
   "id": "2effb065-a163-47f9-845d-c2c23c110367",
   "metadata": {},
   "source": [
    "#### 1) Библиотечная реализация"
   ]
  },
  {
   "cell_type": "code",
   "execution_count": 755,
   "id": "140fe71a-84c8-4b63-ac45-65eded4d335c",
   "metadata": {},
   "outputs": [
    {
     "name": "stdout",
     "output_type": "stream",
     "text": [
      "Топ-30 признаков по методу SelectKBest - chi2:\n",
      "['000', '1day', '30', '90', 'acuvue', 'air', 'biofinity', 'biotrue', 'colorblends', 'colors', 'dailies', 'daily', 'day', 'disposable', 'freshlook', 'hydraclear', 'hydraglyde', 'moist', 'month', 'myday', 'oasys', 'oneday', 'optix', 'optosoft', 'precision1', 'total30', 'with', 'ежемесячный', 'однодневный', 'цвет']\n"
     ]
    }
   ],
   "source": [
    "# Используем SelectKBest для выбора 30 лучших признаков\n",
    "k_best = SelectKBest(score_func=chi2, k=30)\n",
    "X_kbest = k_best.fit_transform(X, y)\n",
    "\n",
    "# Вывод топ-30 признаков\n",
    "top_features_filter_1 = X.columns[k_best.get_support()]\n",
    "print(\"Топ-30 признаков по методу SelectKBest - chi2:\")\n",
    "print(top_features_filter_1.tolist())"
   ]
  },
  {
   "cell_type": "code",
   "execution_count": null,
   "id": "90450286-2584-4d6c-92ba-4dee7e8863b0",
   "metadata": {},
   "outputs": [],
   "source": []
  },
  {
   "cell_type": "markdown",
   "id": "37ec0810-3ed3-474d-80ef-e9f769169727",
   "metadata": {},
   "source": [
    "#### 2) Собственная реализация "
   ]
  },
  {
   "cell_type": "code",
   "execution_count": 759,
   "id": "4e8c8eb0-f350-46d9-b16b-e22e6ededafd",
   "metadata": {},
   "outputs": [],
   "source": [
    "# Функция для вычисления коэффициента корреляции Пирсона\n",
    "def pearson_correlation(X, y):\n",
    "\n",
    "    # Среднее значение признаков и целевой переменной\n",
    "    mean_X = np.mean(X, axis=0)\n",
    "    mean_y = np.mean(y)\n",
    "\n",
    "    # Числитель: произведение разности от каждого признака и целевой переменной от среднего\n",
    "    numerator = np.sum((X - mean_X) * (y[:, np.newaxis] - mean_y), axis=0)  # Добавляем ось к y для согласования размерностей\n",
    "    \n",
    "    # Знаменатель: корень из произведения суммы квадратов отклонений\n",
    "    denominator = np.sqrt(np.sum((X - mean_X)**2, axis=0) * np.sum((y - mean_y)**2))\n",
    "\n",
    "    # Коэффициент корреляции для каждого признака\n",
    "    correlation = numerator / denominator\n",
    "    return correlation"
   ]
  },
  {
   "cell_type": "code",
   "execution_count": 761,
   "id": "b35ecb4b-f9c0-45fd-9e43-1e6bc29ef99d",
   "metadata": {},
   "outputs": [
    {
     "name": "stdout",
     "output_type": "stream",
     "text": [
      "Топ-30 признаков по корреляции с целевой переменной:\n",
      "['ежемесячный', 'цвет', 'optix', 'надевание', 'air', 'biofinity', 'оттенок', 'загрязнение', 'colors', 'плазменный', 'сделать', 'насыщенный', 'повторять', 'красота', '000', 'hydraglyde', 'alcon', 'рисунок', 'непревзойдённый', 'подойти', 'гарантия', 'сохранять', 'идеально', 'искажение', 'почувствовать', 'ощутить', 'голубой', 'тёмный', 'изменить', 'создание']\n"
     ]
    }
   ],
   "source": [
    "# Вычисление корреляции между каждым признаком и целевой переменной\n",
    "correlations = pearson_correlation(X, y)\n",
    "\n",
    "# Создание DataFrame для хранения корреляций\n",
    "correlation_df = pd.DataFrame({'feature': X.columns, 'correlation': correlations})\n",
    "\n",
    "# Сортировка по корреляции и выбор 30 наиболее значимых признаков\n",
    "top_features_filter_2 = correlation_df.sort_values(by='correlation', ascending=False).head(30)['feature'].tolist()\n",
    "\n",
    "# Вывод топ-30 признаков\n",
    "print(\"Топ-30 признаков по корреляции с целевой переменной:\")\n",
    "print(top_features_filter_2)"
   ]
  },
  {
   "cell_type": "code",
   "execution_count": 763,
   "id": "0cf67e7c-f8a4-4026-ac6d-4841f48df8f2",
   "metadata": {},
   "outputs": [
    {
     "name": "stdout",
     "output_type": "stream",
     "text": [
      "Число общих признаков: 8 из 30\n",
      "Общие признаки, отобранные обоими методами:\n",
      "{'hydraglyde', 'air', '000', 'цвет', 'optix', 'biofinity', 'ежемесячный', 'colors'}\n"
     ]
    }
   ],
   "source": [
    "# Сравним признаки, отобранные обоими методами:\n",
    "# Находим общие признаки\n",
    "common_features = set(top_features_filter_1) & set(top_features_filter_2)\n",
    "\n",
    "# Выводим общие признаки и их количество\n",
    "print(f\"Число общих признаков: {len(common_features)} из 30\")\n",
    "print(\"Общие признаки, отобранные обоими методами:\")\n",
    "print(common_features)"
   ]
  },
  {
   "cell_type": "markdown",
   "id": "e55a7956-31a5-4fe3-971b-b6835f54ce26",
   "metadata": {},
   "source": [
    "### Методы-обёртки"
   ]
  },
  {
   "cell_type": "markdown",
   "id": "ed9e7a76-272a-453d-965d-6cb955a1d623",
   "metadata": {},
   "source": [
    "#### 1) Библиотечная реализация"
   ]
  },
  {
   "cell_type": "code",
   "execution_count": 166,
   "id": "a81ffc96-233f-478e-8b7f-f9e1bb8ca9ac",
   "metadata": {},
   "outputs": [
    {
     "name": "stdout",
     "output_type": "stream",
     "text": [
      "Топ-30 признаков по методу SequentialFeatureSelector:\n",
      "['000', '05', '075', '10', '100', '12', '123индикатор', '128', '134', '14', '16', '160', '180', '1900', '1day', '1month', '2014', '24', '25', '26230', '26231', '28', '30', '30pk', '3pk', '3zone', '90', 'acuvue', 'air', 'avaira']\n"
     ]
    }
   ],
   "source": [
    "# Использованием SequentialFeatureSelector для отбора признаков\n",
    "clf = LogisticRegression(max_iter=500, solver='liblinear', random_state=42)\n",
    "\n",
    "selector = SequentialFeatureSelector(clf, n_features_to_select=30, direction='forward', cv=4)\n",
    "selector.fit(X, y)\n",
    "\n",
    "# Получаем индексы признаков, которые были выбраны\n",
    "selected_features_rfe = selector.support_\n",
    "\n",
    "# Список наиболее значимых признаков\n",
    "top_features_wrapper_1 = X.columns[selected_features_rfe].tolist()\n",
    "\n",
    "# Вывод топ-30 признаков\n",
    "print(\"Топ-30 признаков по методу SequentialFeatureSelector:\")\n",
    "print(top_features_wrapper_1)"
   ]
  },
  {
   "cell_type": "markdown",
   "id": "3e89e405-a465-404e-90fc-873b833eaece",
   "metadata": {},
   "source": [
    "#### 2) Собственная реализация "
   ]
  },
  {
   "cell_type": "code",
   "execution_count": 173,
   "id": "e922f4f1-4b5c-474d-a8f4-a1066327bc4a",
   "metadata": {},
   "outputs": [],
   "source": [
    "# Функция для вычисления производительности модели с выбранным набором признаков\n",
    "def evaluate_model(X, y, selected_features):\n",
    "    model = LogisticRegression(max_iter=1000, random_state=42)\n",
    "    stratified_kfold = StratifiedKFold(n_splits=3, shuffle=True, random_state=42)\n",
    "    scores = cross_val_score(model, X[selected_features], y, cv=stratified_kfold, scoring='f1')\n",
    "    return np.mean(scores)\n",
    "    \n",
    "def wrapper_method(X, y, n_features=30, step=8, epsilon=0.001):\n",
    "    selected_features = list(X.columns)\n",
    "    best_score = evaluate_model(X, y, selected_features)\n",
    "    \n",
    "    while len(selected_features) > n_features:\n",
    "        scores = []\n",
    "        \n",
    "        for feature in selected_features:\n",
    "            temp_features = [f for f in selected_features if f != feature]\n",
    "            score = evaluate_model(X, y, temp_features)\n",
    "            scores.append((feature, score))\n",
    "        \n",
    "        # Сортируем признаки по их важности\n",
    "        scores.sort(key=lambda x: x[1])\n",
    "        \n",
    "        # Удаляем несколько худших признаков за раз\n",
    "        worst_features = [f[0] for f in scores[:step]]\n",
    "        selected_features = [f for f in selected_features if f not in worst_features]\n",
    "        \n",
    "        # Проверяем качество модели после удаления\n",
    "        current_score = evaluate_model(X, y, selected_features)\n",
    "        if abs(best_score - current_score) < epsilon:  # Если улучшение незначительное, завершаем\n",
    "            break\n",
    "        if current_score > best_score:\n",
    "            best_score = current_score\n",
    "    \n",
    "    return selected_features\n",
    "\n",
    "# Применяем метод-обертку\n",
    "top_features_wrapper_2 = wrapper_method(X, y, n_features=30)"
   ]
  },
  {
   "cell_type": "code",
   "execution_count": 174,
   "id": "d74adce9-a7a9-4cdc-9585-6fc748166408",
   "metadata": {},
   "outputs": [
    {
     "name": "stdout",
     "output_type": "stream",
     "text": [
      "Топ-30 признаков по своей реализации метода-обертки:\n",
      "['чёткость', 'шесть', 'широкий', 'штука', 'экономичный', 'экран', 'эксклюзивный', 'экспериментировать', 'экстратонкий', 'эластичность', 'эластичный', 'электронный', 'элемент', 'эра', 'этафилкон', 'этот', 'эффект', 'являться', 'яркий', 'ярко', 'ясно', 'ясность', 'ясный']\n"
     ]
    }
   ],
   "source": [
    "# Вывод топ-30 признаков\n",
    "print(\"Топ-30 признаков по своей реализации метода-обертки:\")\n",
    "print(top_features_wrapper_2)"
   ]
  },
  {
   "cell_type": "code",
   "execution_count": 767,
   "id": "94b3dee7-1fc1-48fd-8c9c-897e2d9c72ee",
   "metadata": {},
   "outputs": [
    {
     "name": "stdout",
     "output_type": "stream",
     "text": [
      "Число общих признаков: 0 из 30\n",
      "Общие признаки, отобранные обоими методами:\n",
      "set()\n"
     ]
    }
   ],
   "source": [
    "# Сравним признаки, отобранные обоими методами:\n",
    "# Находим общие признаки\n",
    "common_features = set(top_features_wrapper_1) & set(top_features_wrapper_2)\n",
    "\n",
    "# Выводим общие признаки и их количество\n",
    "print(f\"Число общих признаков: {len(common_features)} из 30\")\n",
    "print(\"Общие признаки, отобранные обоими методами:\")\n",
    "print(common_features)"
   ]
  },
  {
   "cell_type": "markdown",
   "id": "b22b1ef2-e649-4ca6-b283-b00c08d02aa0",
   "metadata": {},
   "source": [
    "### Сравнение полученных списков методов"
   ]
  },
  {
   "cell_type": "code",
   "execution_count": 770,
   "id": "4e69befb-c94e-4a0c-b9db-5f904646a849",
   "metadata": {},
   "outputs": [
    {
     "name": "stdout",
     "output_type": "stream",
     "text": [
      "Общие признаки: set()\n"
     ]
    }
   ],
   "source": [
    "common_features = set(top_features_filter_1) & set(top_features_filter_2) & set(top_features_embedded_1) & \\\n",
    "    set(top_features_embedded_2) & set(top_features_wrapper_1) & set(top_features_wrapper_2)\n",
    "\n",
    "print(f\"Общие признаки: {common_features}\")"
   ]
  },
  {
   "cell_type": "code",
   "execution_count": 772,
   "id": "16b31f9e-fed1-40b1-aaa4-dfa294d51ec6",
   "metadata": {},
   "outputs": [
    {
     "name": "stdout",
     "output_type": "stream",
     "text": [
      "Признаки с наибольшим количеством повторений: [('000', 4), ('acuvue', 4), ('air', 4), ('30', 3), ('90', 3), ('1day', 2), ('biofinity', 2), ('colors', 2), ('hydraglyde', 2), ('optix', 2), ('ежемесячный', 2), ('цвет', 2), ('alcon', 2), ('идеально', 2), ('эластичный', 2), ('электронный', 2), ('элемент', 2), ('эра', 2), ('этафилкон', 2), ('этот', 2), ('эффект', 2), ('являться', 2), ('яркий', 2), ('ярко', 2), ('ясно', 2), ('ясность', 2), ('ясный', 2), ('biotrue', 1), ('colorblends', 1), ('dailies', 1), ('daily', 1), ('day', 1), ('disposable', 1), ('freshlook', 1), ('hydraclear', 1), ('moist', 1), ('month', 1), ('myday', 1), ('oasys', 1), ('oneday', 1), ('optosoft', 1), ('precision1', 1), ('total30', 1), ('with', 1), ('однодневный', 1), ('надевание', 1), ('оттенок', 1), ('загрязнение', 1), ('плазменный', 1), ('сделать', 1), ('насыщенный', 1), ('повторять', 1), ('красота', 1), ('рисунок', 1), ('непревзойдённый', 1), ('подойти', 1), ('гарантия', 1), ('сохранять', 1), ('искажение', 1), ('почувствовать', 1), ('ощутить', 1), ('голубой', 1), ('тёмный', 1), ('изменить', 1), ('создание', 1), ('900', 1), ('95', 1), ('9611333', 1), ('99', 1), ('55', 1), ('56', 1), ('58', 1), ('59', 1), ('6pk', 1), ('78', 1), ('84', 1), ('87', 1), ('это', 1), ('3в1', 1), ('звонить', 1), ('звонок', 1), ('здоровый', 1), ('здоровье', 1), ('зелёный', 1), ('значение', 1), ('значит', 1), ('значительно', 1), ('значительный', 1), ('зона', 1), ('заявка', 1), ('зрение', 1), ('зрительный', 1), ('игра', 1), ('играть', 1), ('идеальный', 1), ('из', 1), ('избавить', 1), ('избавлять', 1), ('избежать', 1), ('известный', 1), ('зрачок', 1), ('заключаться', 1), ('заключить', 1), ('закруглить', 1), ('05', 1), ('075', 1), ('10', 1), ('100', 1), ('12', 1), ('123индикатор', 1), ('128', 1), ('134', 1), ('14', 1), ('16', 1), ('160', 1), ('180', 1), ('1900', 1), ('1month', 1), ('2014', 1), ('24', 1), ('25', 1), ('26230', 1), ('26231', 1), ('28', 1), ('30pk', 1), ('3pk', 1), ('3zone', 1), ('avaira', 1), ('чёткость', 1), ('шесть', 1), ('широкий', 1), ('штука', 1), ('экономичный', 1), ('экран', 1), ('эксклюзивный', 1), ('экспериментировать', 1), ('экстратонкий', 1), ('эластичность', 1)]\n"
     ]
    }
   ],
   "source": [
    "# Все признаки, выбранные каждым методом\n",
    "all_features = []\n",
    "all_features.extend(top_features_filter_1)\n",
    "all_features.extend(top_features_filter_2)\n",
    "all_features.extend(top_features_embedded_1)\n",
    "all_features.extend(top_features_embedded_2)\n",
    "all_features.extend(top_features_wrapper_1)\n",
    "all_features.extend(top_features_wrapper_2)\n",
    "\n",
    "# Подсчитываем, сколько раз каждый признак встречается\n",
    "feature_counts = Counter(all_features)\n",
    "\n",
    "# Выводим признаки, которые встречаются больше всего\n",
    "top_common_features = feature_counts.most_common()\n",
    "print(f\"Признаки с наибольшим количеством повторений: {top_common_features}\")"
   ]
  },
  {
   "cell_type": "code",
   "execution_count": 774,
   "id": "7b968814-befa-4b4a-b7b9-8295313eccf8",
   "metadata": {},
   "outputs": [
    {
     "data": {
      "text/html": [
       "<style type=\"text/css\">\n",
       "#T_57ae6_row0_col2, #T_57ae6_row1_col4, #T_57ae6_row2_col3, #T_57ae6_row3_col0, #T_57ae6_row4_col0, #T_57ae6_row4_col1, #T_57ae6_row5_col4, #T_57ae6_row6_col2, #T_57ae6_row6_col5, #T_57ae6_row7_col3, #T_57ae6_row8_col5, #T_57ae6_row9_col3, #T_57ae6_row10_col3, #T_57ae6_row11_col5, #T_57ae6_row12_col0, #T_57ae6_row12_col1, #T_57ae6_row13_col0, #T_57ae6_row14_col0, #T_57ae6_row15_col0, #T_57ae6_row16_col4, #T_57ae6_row17_col2, #T_57ae6_row17_col5, #T_57ae6_row18_col3, #T_57ae6_row19_col3, #T_57ae6_row20_col3, #T_57ae6_row21_col4, #T_57ae6_row22_col2, #T_57ae6_row22_col5, #T_57ae6_row23_col1, #T_57ae6_row24_col2, #T_57ae6_row25_col0, #T_57ae6_row26_col4, #T_57ae6_row27_col1, #T_57ae6_row28_col1, #T_57ae6_row29_col1, #T_57ae6_row30_col3, #T_57ae6_row31_col4, #T_57ae6_row32_col3, #T_57ae6_row33_col2, #T_57ae6_row34_col1, #T_57ae6_row35_col1, #T_57ae6_row36_col3, #T_57ae6_row37_col2, #T_57ae6_row37_col5, #T_57ae6_row38_col0, #T_57ae6_row38_col4, #T_57ae6_row39_col0, #T_57ae6_row40_col0, #T_57ae6_row40_col1, #T_57ae6_row41_col1, #T_57ae6_row42_col0, #T_57ae6_row42_col3, #T_57ae6_row42_col4, #T_57ae6_row43_col0, #T_57ae6_row44_col3, #T_57ae6_row45_col3, #T_57ae6_row46_col4, #T_57ae6_row47_col5, #T_57ae6_row48_col3, #T_57ae6_row49_col2, #T_57ae6_row49_col5, #T_57ae6_row50_col2, #T_57ae6_row51_col0, #T_57ae6_row52_col1, #T_57ae6_row53_col5, #T_57ae6_row54_col4, #T_57ae6_row55_col0, #T_57ae6_row55_col1, #T_57ae6_row55_col2, #T_57ae6_row55_col4, #T_57ae6_row56_col3, #T_57ae6_row57_col1, #T_57ae6_row58_col1, #T_57ae6_row59_col1, #T_57ae6_row59_col3, #T_57ae6_row60_col2, #T_57ae6_row60_col5, #T_57ae6_row61_col0, #T_57ae6_row62_col2, #T_57ae6_row62_col5, #T_57ae6_row63_col3, #T_57ae6_row64_col0, #T_57ae6_row64_col3, #T_57ae6_row64_col4, #T_57ae6_row65_col2, #T_57ae6_row65_col5, #T_57ae6_row66_col4, #T_57ae6_row67_col4, #T_57ae6_row68_col2, #T_57ae6_row69_col0, #T_57ae6_row69_col1, #T_57ae6_row70_col3, #T_57ae6_row71_col0, #T_57ae6_row72_col0, #T_57ae6_row73_col3, #T_57ae6_row74_col2, #T_57ae6_row75_col2, #T_57ae6_row75_col5, #T_57ae6_row76_col1, #T_57ae6_row76_col2, #T_57ae6_row77_col2, #T_57ae6_row77_col5, #T_57ae6_row78_col0, #T_57ae6_row79_col2, #T_57ae6_row80_col0, #T_57ae6_row81_col2, #T_57ae6_row82_col2, #T_57ae6_row82_col5, #T_57ae6_row83_col2, #T_57ae6_row84_col4, #T_57ae6_row85_col1, #T_57ae6_row86_col0, #T_57ae6_row87_col4, #T_57ae6_row88_col5, #T_57ae6_row89_col4, #T_57ae6_row90_col5, #T_57ae6_row91_col1, #T_57ae6_row92_col4, #T_57ae6_row93_col3, #T_57ae6_row94_col1, #T_57ae6_row95_col1, #T_57ae6_row96_col5, #T_57ae6_row97_col4, #T_57ae6_row98_col1, #T_57ae6_row99_col2, #T_57ae6_row100_col4, #T_57ae6_row101_col2, #T_57ae6_row101_col5, #T_57ae6_row102_col2, #T_57ae6_row103_col5, #T_57ae6_row104_col3, #T_57ae6_row105_col0, #T_57ae6_row105_col2, #T_57ae6_row105_col3, #T_57ae6_row105_col4, #T_57ae6_row106_col2, #T_57ae6_row106_col5, #T_57ae6_row107_col0, #T_57ae6_row107_col1, #T_57ae6_row108_col0, #T_57ae6_row109_col1, #T_57ae6_row110_col1, #T_57ae6_row111_col4, #T_57ae6_row112_col4, #T_57ae6_row113_col1, #T_57ae6_row114_col1, #T_57ae6_row115_col0, #T_57ae6_row115_col1, #T_57ae6_row116_col2, #T_57ae6_row117_col3, #T_57ae6_row118_col3, #T_57ae6_row119_col3, #T_57ae6_row120_col5, #T_57ae6_row121_col4, #T_57ae6_row122_col0, #T_57ae6_row123_col0, #T_57ae6_row124_col2, #T_57ae6_row125_col1, #T_57ae6_row126_col3, #T_57ae6_row127_col4, #T_57ae6_row128_col0, #T_57ae6_row128_col1, #T_57ae6_row128_col2, #T_57ae6_row128_col4, #T_57ae6_row129_col3, #T_57ae6_row130_col3, #T_57ae6_row131_col5, #T_57ae6_row132_col0, #T_57ae6_row133_col4, #T_57ae6_row134_col3, #T_57ae6_row135_col4, #T_57ae6_row136_col4, #T_57ae6_row137_col4 {\n",
       "  background-color: orange;\n",
       "}\n",
       "</style>\n",
       "<table id=\"T_57ae6\">\n",
       "  <thead>\n",
       "    <tr>\n",
       "      <th class=\"blank level0\" >&nbsp;</th>\n",
       "      <th id=\"T_57ae6_level0_col0\" class=\"col_heading level0 col0\" >Method1</th>\n",
       "      <th id=\"T_57ae6_level0_col1\" class=\"col_heading level0 col1\" >Method2</th>\n",
       "      <th id=\"T_57ae6_level0_col2\" class=\"col_heading level0 col2\" >Method3</th>\n",
       "      <th id=\"T_57ae6_level0_col3\" class=\"col_heading level0 col3\" >Method4</th>\n",
       "      <th id=\"T_57ae6_level0_col4\" class=\"col_heading level0 col4\" >Method5</th>\n",
       "      <th id=\"T_57ae6_level0_col5\" class=\"col_heading level0 col5\" >Method6</th>\n",
       "    </tr>\n",
       "  </thead>\n",
       "  <tbody>\n",
       "    <tr>\n",
       "      <th id=\"T_57ae6_level0_row0\" class=\"row_heading level0 row0\" >84</th>\n",
       "      <td id=\"T_57ae6_row0_col0\" class=\"data row0 col0\" >0</td>\n",
       "      <td id=\"T_57ae6_row0_col1\" class=\"data row0 col1\" >0</td>\n",
       "      <td id=\"T_57ae6_row0_col2\" class=\"data row0 col2\" >1</td>\n",
       "      <td id=\"T_57ae6_row0_col3\" class=\"data row0 col3\" >0</td>\n",
       "      <td id=\"T_57ae6_row0_col4\" class=\"data row0 col4\" >0</td>\n",
       "      <td id=\"T_57ae6_row0_col5\" class=\"data row0 col5\" >0</td>\n",
       "    </tr>\n",
       "    <tr>\n",
       "      <th id=\"T_57ae6_level0_row1\" class=\"row_heading level0 row1\" >28</th>\n",
       "      <td id=\"T_57ae6_row1_col0\" class=\"data row1 col0\" >0</td>\n",
       "      <td id=\"T_57ae6_row1_col1\" class=\"data row1 col1\" >0</td>\n",
       "      <td id=\"T_57ae6_row1_col2\" class=\"data row1 col2\" >0</td>\n",
       "      <td id=\"T_57ae6_row1_col3\" class=\"data row1 col3\" >0</td>\n",
       "      <td id=\"T_57ae6_row1_col4\" class=\"data row1 col4\" >1</td>\n",
       "      <td id=\"T_57ae6_row1_col5\" class=\"data row1 col5\" >0</td>\n",
       "    </tr>\n",
       "    <tr>\n",
       "      <th id=\"T_57ae6_level0_row2\" class=\"row_heading level0 row2\" >звонить</th>\n",
       "      <td id=\"T_57ae6_row2_col0\" class=\"data row2 col0\" >0</td>\n",
       "      <td id=\"T_57ae6_row2_col1\" class=\"data row2 col1\" >0</td>\n",
       "      <td id=\"T_57ae6_row2_col2\" class=\"data row2 col2\" >0</td>\n",
       "      <td id=\"T_57ae6_row2_col3\" class=\"data row2 col3\" >1</td>\n",
       "      <td id=\"T_57ae6_row2_col4\" class=\"data row2 col4\" >0</td>\n",
       "      <td id=\"T_57ae6_row2_col5\" class=\"data row2 col5\" >0</td>\n",
       "    </tr>\n",
       "    <tr>\n",
       "      <th id=\"T_57ae6_level0_row3\" class=\"row_heading level0 row3\" >month</th>\n",
       "      <td id=\"T_57ae6_row3_col0\" class=\"data row3 col0\" >1</td>\n",
       "      <td id=\"T_57ae6_row3_col1\" class=\"data row3 col1\" >0</td>\n",
       "      <td id=\"T_57ae6_row3_col2\" class=\"data row3 col2\" >0</td>\n",
       "      <td id=\"T_57ae6_row3_col3\" class=\"data row3 col3\" >0</td>\n",
       "      <td id=\"T_57ae6_row3_col4\" class=\"data row3 col4\" >0</td>\n",
       "      <td id=\"T_57ae6_row3_col5\" class=\"data row3 col5\" >0</td>\n",
       "    </tr>\n",
       "    <tr>\n",
       "      <th id=\"T_57ae6_level0_row4\" class=\"row_heading level0 row4\" >optix</th>\n",
       "      <td id=\"T_57ae6_row4_col0\" class=\"data row4 col0\" >1</td>\n",
       "      <td id=\"T_57ae6_row4_col1\" class=\"data row4 col1\" >1</td>\n",
       "      <td id=\"T_57ae6_row4_col2\" class=\"data row4 col2\" >0</td>\n",
       "      <td id=\"T_57ae6_row4_col3\" class=\"data row4 col3\" >0</td>\n",
       "      <td id=\"T_57ae6_row4_col4\" class=\"data row4 col4\" >0</td>\n",
       "      <td id=\"T_57ae6_row4_col5\" class=\"data row4 col5\" >0</td>\n",
       "    </tr>\n",
       "    <tr>\n",
       "      <th id=\"T_57ae6_level0_row5\" class=\"row_heading level0 row5\" >160</th>\n",
       "      <td id=\"T_57ae6_row5_col0\" class=\"data row5 col0\" >0</td>\n",
       "      <td id=\"T_57ae6_row5_col1\" class=\"data row5 col1\" >0</td>\n",
       "      <td id=\"T_57ae6_row5_col2\" class=\"data row5 col2\" >0</td>\n",
       "      <td id=\"T_57ae6_row5_col3\" class=\"data row5 col3\" >0</td>\n",
       "      <td id=\"T_57ae6_row5_col4\" class=\"data row5 col4\" >1</td>\n",
       "      <td id=\"T_57ae6_row5_col5\" class=\"data row5 col5\" >0</td>\n",
       "    </tr>\n",
       "    <tr>\n",
       "      <th id=\"T_57ae6_level0_row6\" class=\"row_heading level0 row6\" >ясность</th>\n",
       "      <td id=\"T_57ae6_row6_col0\" class=\"data row6 col0\" >0</td>\n",
       "      <td id=\"T_57ae6_row6_col1\" class=\"data row6 col1\" >0</td>\n",
       "      <td id=\"T_57ae6_row6_col2\" class=\"data row6 col2\" >1</td>\n",
       "      <td id=\"T_57ae6_row6_col3\" class=\"data row6 col3\" >0</td>\n",
       "      <td id=\"T_57ae6_row6_col4\" class=\"data row6 col4\" >0</td>\n",
       "      <td id=\"T_57ae6_row6_col5\" class=\"data row6 col5\" >1</td>\n",
       "    </tr>\n",
       "    <tr>\n",
       "      <th id=\"T_57ae6_level0_row7\" class=\"row_heading level0 row7\" >известный</th>\n",
       "      <td id=\"T_57ae6_row7_col0\" class=\"data row7 col0\" >0</td>\n",
       "      <td id=\"T_57ae6_row7_col1\" class=\"data row7 col1\" >0</td>\n",
       "      <td id=\"T_57ae6_row7_col2\" class=\"data row7 col2\" >0</td>\n",
       "      <td id=\"T_57ae6_row7_col3\" class=\"data row7 col3\" >1</td>\n",
       "      <td id=\"T_57ae6_row7_col4\" class=\"data row7 col4\" >0</td>\n",
       "      <td id=\"T_57ae6_row7_col5\" class=\"data row7 col5\" >0</td>\n",
       "    </tr>\n",
       "    <tr>\n",
       "      <th id=\"T_57ae6_level0_row8\" class=\"row_heading level0 row8\" >эластичность</th>\n",
       "      <td id=\"T_57ae6_row8_col0\" class=\"data row8 col0\" >0</td>\n",
       "      <td id=\"T_57ae6_row8_col1\" class=\"data row8 col1\" >0</td>\n",
       "      <td id=\"T_57ae6_row8_col2\" class=\"data row8 col2\" >0</td>\n",
       "      <td id=\"T_57ae6_row8_col3\" class=\"data row8 col3\" >0</td>\n",
       "      <td id=\"T_57ae6_row8_col4\" class=\"data row8 col4\" >0</td>\n",
       "      <td id=\"T_57ae6_row8_col5\" class=\"data row8 col5\" >1</td>\n",
       "    </tr>\n",
       "    <tr>\n",
       "      <th id=\"T_57ae6_level0_row9\" class=\"row_heading level0 row9\" >звонок</th>\n",
       "      <td id=\"T_57ae6_row9_col0\" class=\"data row9 col0\" >0</td>\n",
       "      <td id=\"T_57ae6_row9_col1\" class=\"data row9 col1\" >0</td>\n",
       "      <td id=\"T_57ae6_row9_col2\" class=\"data row9 col2\" >0</td>\n",
       "      <td id=\"T_57ae6_row9_col3\" class=\"data row9 col3\" >1</td>\n",
       "      <td id=\"T_57ae6_row9_col4\" class=\"data row9 col4\" >0</td>\n",
       "      <td id=\"T_57ae6_row9_col5\" class=\"data row9 col5\" >0</td>\n",
       "    </tr>\n",
       "    <tr>\n",
       "      <th id=\"T_57ae6_level0_row10\" class=\"row_heading level0 row10\" >зелёный</th>\n",
       "      <td id=\"T_57ae6_row10_col0\" class=\"data row10 col0\" >0</td>\n",
       "      <td id=\"T_57ae6_row10_col1\" class=\"data row10 col1\" >0</td>\n",
       "      <td id=\"T_57ae6_row10_col2\" class=\"data row10 col2\" >0</td>\n",
       "      <td id=\"T_57ae6_row10_col3\" class=\"data row10 col3\" >1</td>\n",
       "      <td id=\"T_57ae6_row10_col4\" class=\"data row10 col4\" >0</td>\n",
       "      <td id=\"T_57ae6_row10_col5\" class=\"data row10 col5\" >0</td>\n",
       "    </tr>\n",
       "    <tr>\n",
       "      <th id=\"T_57ae6_level0_row11\" class=\"row_heading level0 row11\" >экспериментировать</th>\n",
       "      <td id=\"T_57ae6_row11_col0\" class=\"data row11 col0\" >0</td>\n",
       "      <td id=\"T_57ae6_row11_col1\" class=\"data row11 col1\" >0</td>\n",
       "      <td id=\"T_57ae6_row11_col2\" class=\"data row11 col2\" >0</td>\n",
       "      <td id=\"T_57ae6_row11_col3\" class=\"data row11 col3\" >0</td>\n",
       "      <td id=\"T_57ae6_row11_col4\" class=\"data row11 col4\" >0</td>\n",
       "      <td id=\"T_57ae6_row11_col5\" class=\"data row11 col5\" >1</td>\n",
       "    </tr>\n",
       "    <tr>\n",
       "      <th id=\"T_57ae6_level0_row12\" class=\"row_heading level0 row12\" >цвет</th>\n",
       "      <td id=\"T_57ae6_row12_col0\" class=\"data row12 col0\" >1</td>\n",
       "      <td id=\"T_57ae6_row12_col1\" class=\"data row12 col1\" >1</td>\n",
       "      <td id=\"T_57ae6_row12_col2\" class=\"data row12 col2\" >0</td>\n",
       "      <td id=\"T_57ae6_row12_col3\" class=\"data row12 col3\" >0</td>\n",
       "      <td id=\"T_57ae6_row12_col4\" class=\"data row12 col4\" >0</td>\n",
       "      <td id=\"T_57ae6_row12_col5\" class=\"data row12 col5\" >0</td>\n",
       "    </tr>\n",
       "    <tr>\n",
       "      <th id=\"T_57ae6_level0_row13\" class=\"row_heading level0 row13\" >disposable</th>\n",
       "      <td id=\"T_57ae6_row13_col0\" class=\"data row13 col0\" >1</td>\n",
       "      <td id=\"T_57ae6_row13_col1\" class=\"data row13 col1\" >0</td>\n",
       "      <td id=\"T_57ae6_row13_col2\" class=\"data row13 col2\" >0</td>\n",
       "      <td id=\"T_57ae6_row13_col3\" class=\"data row13 col3\" >0</td>\n",
       "      <td id=\"T_57ae6_row13_col4\" class=\"data row13 col4\" >0</td>\n",
       "      <td id=\"T_57ae6_row13_col5\" class=\"data row13 col5\" >0</td>\n",
       "    </tr>\n",
       "    <tr>\n",
       "      <th id=\"T_57ae6_level0_row14\" class=\"row_heading level0 row14\" >with</th>\n",
       "      <td id=\"T_57ae6_row14_col0\" class=\"data row14 col0\" >1</td>\n",
       "      <td id=\"T_57ae6_row14_col1\" class=\"data row14 col1\" >0</td>\n",
       "      <td id=\"T_57ae6_row14_col2\" class=\"data row14 col2\" >0</td>\n",
       "      <td id=\"T_57ae6_row14_col3\" class=\"data row14 col3\" >0</td>\n",
       "      <td id=\"T_57ae6_row14_col4\" class=\"data row14 col4\" >0</td>\n",
       "      <td id=\"T_57ae6_row14_col5\" class=\"data row14 col5\" >0</td>\n",
       "    </tr>\n",
       "    <tr>\n",
       "      <th id=\"T_57ae6_level0_row15\" class=\"row_heading level0 row15\" >moist</th>\n",
       "      <td id=\"T_57ae6_row15_col0\" class=\"data row15 col0\" >1</td>\n",
       "      <td id=\"T_57ae6_row15_col1\" class=\"data row15 col1\" >0</td>\n",
       "      <td id=\"T_57ae6_row15_col2\" class=\"data row15 col2\" >0</td>\n",
       "      <td id=\"T_57ae6_row15_col3\" class=\"data row15 col3\" >0</td>\n",
       "      <td id=\"T_57ae6_row15_col4\" class=\"data row15 col4\" >0</td>\n",
       "      <td id=\"T_57ae6_row15_col5\" class=\"data row15 col5\" >0</td>\n",
       "    </tr>\n",
       "    <tr>\n",
       "      <th id=\"T_57ae6_level0_row16\" class=\"row_heading level0 row16\" >26231</th>\n",
       "      <td id=\"T_57ae6_row16_col0\" class=\"data row16 col0\" >0</td>\n",
       "      <td id=\"T_57ae6_row16_col1\" class=\"data row16 col1\" >0</td>\n",
       "      <td id=\"T_57ae6_row16_col2\" class=\"data row16 col2\" >0</td>\n",
       "      <td id=\"T_57ae6_row16_col3\" class=\"data row16 col3\" >0</td>\n",
       "      <td id=\"T_57ae6_row16_col4\" class=\"data row16 col4\" >1</td>\n",
       "      <td id=\"T_57ae6_row16_col5\" class=\"data row16 col5\" >0</td>\n",
       "    </tr>\n",
       "    <tr>\n",
       "      <th id=\"T_57ae6_level0_row17\" class=\"row_heading level0 row17\" >электронный</th>\n",
       "      <td id=\"T_57ae6_row17_col0\" class=\"data row17 col0\" >0</td>\n",
       "      <td id=\"T_57ae6_row17_col1\" class=\"data row17 col1\" >0</td>\n",
       "      <td id=\"T_57ae6_row17_col2\" class=\"data row17 col2\" >1</td>\n",
       "      <td id=\"T_57ae6_row17_col3\" class=\"data row17 col3\" >0</td>\n",
       "      <td id=\"T_57ae6_row17_col4\" class=\"data row17 col4\" >0</td>\n",
       "      <td id=\"T_57ae6_row17_col5\" class=\"data row17 col5\" >1</td>\n",
       "    </tr>\n",
       "    <tr>\n",
       "      <th id=\"T_57ae6_level0_row18\" class=\"row_heading level0 row18\" >зона</th>\n",
       "      <td id=\"T_57ae6_row18_col0\" class=\"data row18 col0\" >0</td>\n",
       "      <td id=\"T_57ae6_row18_col1\" class=\"data row18 col1\" >0</td>\n",
       "      <td id=\"T_57ae6_row18_col2\" class=\"data row18 col2\" >0</td>\n",
       "      <td id=\"T_57ae6_row18_col3\" class=\"data row18 col3\" >1</td>\n",
       "      <td id=\"T_57ae6_row18_col4\" class=\"data row18 col4\" >0</td>\n",
       "      <td id=\"T_57ae6_row18_col5\" class=\"data row18 col5\" >0</td>\n",
       "    </tr>\n",
       "    <tr>\n",
       "      <th id=\"T_57ae6_level0_row19\" class=\"row_heading level0 row19\" >значение</th>\n",
       "      <td id=\"T_57ae6_row19_col0\" class=\"data row19 col0\" >0</td>\n",
       "      <td id=\"T_57ae6_row19_col1\" class=\"data row19 col1\" >0</td>\n",
       "      <td id=\"T_57ae6_row19_col2\" class=\"data row19 col2\" >0</td>\n",
       "      <td id=\"T_57ae6_row19_col3\" class=\"data row19 col3\" >1</td>\n",
       "      <td id=\"T_57ae6_row19_col4\" class=\"data row19 col4\" >0</td>\n",
       "      <td id=\"T_57ae6_row19_col5\" class=\"data row19 col5\" >0</td>\n",
       "    </tr>\n",
       "    <tr>\n",
       "      <th id=\"T_57ae6_level0_row20\" class=\"row_heading level0 row20\" >значит</th>\n",
       "      <td id=\"T_57ae6_row20_col0\" class=\"data row20 col0\" >0</td>\n",
       "      <td id=\"T_57ae6_row20_col1\" class=\"data row20 col1\" >0</td>\n",
       "      <td id=\"T_57ae6_row20_col2\" class=\"data row20 col2\" >0</td>\n",
       "      <td id=\"T_57ae6_row20_col3\" class=\"data row20 col3\" >1</td>\n",
       "      <td id=\"T_57ae6_row20_col4\" class=\"data row20 col4\" >0</td>\n",
       "      <td id=\"T_57ae6_row20_col5\" class=\"data row20 col5\" >0</td>\n",
       "    </tr>\n",
       "    <tr>\n",
       "      <th id=\"T_57ae6_level0_row21\" class=\"row_heading level0 row21\" >1900</th>\n",
       "      <td id=\"T_57ae6_row21_col0\" class=\"data row21 col0\" >0</td>\n",
       "      <td id=\"T_57ae6_row21_col1\" class=\"data row21 col1\" >0</td>\n",
       "      <td id=\"T_57ae6_row21_col2\" class=\"data row21 col2\" >0</td>\n",
       "      <td id=\"T_57ae6_row21_col3\" class=\"data row21 col3\" >0</td>\n",
       "      <td id=\"T_57ae6_row21_col4\" class=\"data row21 col4\" >1</td>\n",
       "      <td id=\"T_57ae6_row21_col5\" class=\"data row21 col5\" >0</td>\n",
       "    </tr>\n",
       "    <tr>\n",
       "      <th id=\"T_57ae6_level0_row22\" class=\"row_heading level0 row22\" >эффект</th>\n",
       "      <td id=\"T_57ae6_row22_col0\" class=\"data row22 col0\" >0</td>\n",
       "      <td id=\"T_57ae6_row22_col1\" class=\"data row22 col1\" >0</td>\n",
       "      <td id=\"T_57ae6_row22_col2\" class=\"data row22 col2\" >1</td>\n",
       "      <td id=\"T_57ae6_row22_col3\" class=\"data row22 col3\" >0</td>\n",
       "      <td id=\"T_57ae6_row22_col4\" class=\"data row22 col4\" >0</td>\n",
       "      <td id=\"T_57ae6_row22_col5\" class=\"data row22 col5\" >1</td>\n",
       "    </tr>\n",
       "    <tr>\n",
       "      <th id=\"T_57ae6_level0_row23\" class=\"row_heading level0 row23\" >сделать</th>\n",
       "      <td id=\"T_57ae6_row23_col0\" class=\"data row23 col0\" >0</td>\n",
       "      <td id=\"T_57ae6_row23_col1\" class=\"data row23 col1\" >1</td>\n",
       "      <td id=\"T_57ae6_row23_col2\" class=\"data row23 col2\" >0</td>\n",
       "      <td id=\"T_57ae6_row23_col3\" class=\"data row23 col3\" >0</td>\n",
       "      <td id=\"T_57ae6_row23_col4\" class=\"data row23 col4\" >0</td>\n",
       "      <td id=\"T_57ae6_row23_col5\" class=\"data row23 col5\" >0</td>\n",
       "    </tr>\n",
       "    <tr>\n",
       "      <th id=\"T_57ae6_level0_row24\" class=\"row_heading level0 row24\" >99</th>\n",
       "      <td id=\"T_57ae6_row24_col0\" class=\"data row24 col0\" >0</td>\n",
       "      <td id=\"T_57ae6_row24_col1\" class=\"data row24 col1\" >0</td>\n",
       "      <td id=\"T_57ae6_row24_col2\" class=\"data row24 col2\" >1</td>\n",
       "      <td id=\"T_57ae6_row24_col3\" class=\"data row24 col3\" >0</td>\n",
       "      <td id=\"T_57ae6_row24_col4\" class=\"data row24 col4\" >0</td>\n",
       "      <td id=\"T_57ae6_row24_col5\" class=\"data row24 col5\" >0</td>\n",
       "    </tr>\n",
       "    <tr>\n",
       "      <th id=\"T_57ae6_level0_row25\" class=\"row_heading level0 row25\" >однодневный</th>\n",
       "      <td id=\"T_57ae6_row25_col0\" class=\"data row25 col0\" >1</td>\n",
       "      <td id=\"T_57ae6_row25_col1\" class=\"data row25 col1\" >0</td>\n",
       "      <td id=\"T_57ae6_row25_col2\" class=\"data row25 col2\" >0</td>\n",
       "      <td id=\"T_57ae6_row25_col3\" class=\"data row25 col3\" >0</td>\n",
       "      <td id=\"T_57ae6_row25_col4\" class=\"data row25 col4\" >0</td>\n",
       "      <td id=\"T_57ae6_row25_col5\" class=\"data row25 col5\" >0</td>\n",
       "    </tr>\n",
       "    <tr>\n",
       "      <th id=\"T_57ae6_level0_row26\" class=\"row_heading level0 row26\" >14</th>\n",
       "      <td id=\"T_57ae6_row26_col0\" class=\"data row26 col0\" >0</td>\n",
       "      <td id=\"T_57ae6_row26_col1\" class=\"data row26 col1\" >0</td>\n",
       "      <td id=\"T_57ae6_row26_col2\" class=\"data row26 col2\" >0</td>\n",
       "      <td id=\"T_57ae6_row26_col3\" class=\"data row26 col3\" >0</td>\n",
       "      <td id=\"T_57ae6_row26_col4\" class=\"data row26 col4\" >1</td>\n",
       "      <td id=\"T_57ae6_row26_col5\" class=\"data row26 col5\" >0</td>\n",
       "    </tr>\n",
       "    <tr>\n",
       "      <th id=\"T_57ae6_level0_row27\" class=\"row_heading level0 row27\" >оттенок</th>\n",
       "      <td id=\"T_57ae6_row27_col0\" class=\"data row27 col0\" >0</td>\n",
       "      <td id=\"T_57ae6_row27_col1\" class=\"data row27 col1\" >1</td>\n",
       "      <td id=\"T_57ae6_row27_col2\" class=\"data row27 col2\" >0</td>\n",
       "      <td id=\"T_57ae6_row27_col3\" class=\"data row27 col3\" >0</td>\n",
       "      <td id=\"T_57ae6_row27_col4\" class=\"data row27 col4\" >0</td>\n",
       "      <td id=\"T_57ae6_row27_col5\" class=\"data row27 col5\" >0</td>\n",
       "    </tr>\n",
       "    <tr>\n",
       "      <th id=\"T_57ae6_level0_row28\" class=\"row_heading level0 row28\" >почувствовать</th>\n",
       "      <td id=\"T_57ae6_row28_col0\" class=\"data row28 col0\" >0</td>\n",
       "      <td id=\"T_57ae6_row28_col1\" class=\"data row28 col1\" >1</td>\n",
       "      <td id=\"T_57ae6_row28_col2\" class=\"data row28 col2\" >0</td>\n",
       "      <td id=\"T_57ae6_row28_col3\" class=\"data row28 col3\" >0</td>\n",
       "      <td id=\"T_57ae6_row28_col4\" class=\"data row28 col4\" >0</td>\n",
       "      <td id=\"T_57ae6_row28_col5\" class=\"data row28 col5\" >0</td>\n",
       "    </tr>\n",
       "    <tr>\n",
       "      <th id=\"T_57ae6_level0_row29\" class=\"row_heading level0 row29\" >тёмный</th>\n",
       "      <td id=\"T_57ae6_row29_col0\" class=\"data row29 col0\" >0</td>\n",
       "      <td id=\"T_57ae6_row29_col1\" class=\"data row29 col1\" >1</td>\n",
       "      <td id=\"T_57ae6_row29_col2\" class=\"data row29 col2\" >0</td>\n",
       "      <td id=\"T_57ae6_row29_col3\" class=\"data row29 col3\" >0</td>\n",
       "      <td id=\"T_57ae6_row29_col4\" class=\"data row29 col4\" >0</td>\n",
       "      <td id=\"T_57ae6_row29_col5\" class=\"data row29 col5\" >0</td>\n",
       "    </tr>\n",
       "    <tr>\n",
       "      <th id=\"T_57ae6_level0_row30\" class=\"row_heading level0 row30\" >заключаться</th>\n",
       "      <td id=\"T_57ae6_row30_col0\" class=\"data row30 col0\" >0</td>\n",
       "      <td id=\"T_57ae6_row30_col1\" class=\"data row30 col1\" >0</td>\n",
       "      <td id=\"T_57ae6_row30_col2\" class=\"data row30 col2\" >0</td>\n",
       "      <td id=\"T_57ae6_row30_col3\" class=\"data row30 col3\" >1</td>\n",
       "      <td id=\"T_57ae6_row30_col4\" class=\"data row30 col4\" >0</td>\n",
       "      <td id=\"T_57ae6_row30_col5\" class=\"data row30 col5\" >0</td>\n",
       "    </tr>\n",
       "    <tr>\n",
       "      <th id=\"T_57ae6_level0_row31\" class=\"row_heading level0 row31\" >100</th>\n",
       "      <td id=\"T_57ae6_row31_col0\" class=\"data row31 col0\" >0</td>\n",
       "      <td id=\"T_57ae6_row31_col1\" class=\"data row31 col1\" >0</td>\n",
       "      <td id=\"T_57ae6_row31_col2\" class=\"data row31 col2\" >0</td>\n",
       "      <td id=\"T_57ae6_row31_col3\" class=\"data row31 col3\" >0</td>\n",
       "      <td id=\"T_57ae6_row31_col4\" class=\"data row31 col4\" >1</td>\n",
       "      <td id=\"T_57ae6_row31_col5\" class=\"data row31 col5\" >0</td>\n",
       "    </tr>\n",
       "    <tr>\n",
       "      <th id=\"T_57ae6_level0_row32\" class=\"row_heading level0 row32\" >играть</th>\n",
       "      <td id=\"T_57ae6_row32_col0\" class=\"data row32 col0\" >0</td>\n",
       "      <td id=\"T_57ae6_row32_col1\" class=\"data row32 col1\" >0</td>\n",
       "      <td id=\"T_57ae6_row32_col2\" class=\"data row32 col2\" >0</td>\n",
       "      <td id=\"T_57ae6_row32_col3\" class=\"data row32 col3\" >1</td>\n",
       "      <td id=\"T_57ae6_row32_col4\" class=\"data row32 col4\" >0</td>\n",
       "      <td id=\"T_57ae6_row32_col5\" class=\"data row32 col5\" >0</td>\n",
       "    </tr>\n",
       "    <tr>\n",
       "      <th id=\"T_57ae6_level0_row33\" class=\"row_heading level0 row33\" >56</th>\n",
       "      <td id=\"T_57ae6_row33_col0\" class=\"data row33 col0\" >0</td>\n",
       "      <td id=\"T_57ae6_row33_col1\" class=\"data row33 col1\" >0</td>\n",
       "      <td id=\"T_57ae6_row33_col2\" class=\"data row33 col2\" >1</td>\n",
       "      <td id=\"T_57ae6_row33_col3\" class=\"data row33 col3\" >0</td>\n",
       "      <td id=\"T_57ae6_row33_col4\" class=\"data row33 col4\" >0</td>\n",
       "      <td id=\"T_57ae6_row33_col5\" class=\"data row33 col5\" >0</td>\n",
       "    </tr>\n",
       "    <tr>\n",
       "      <th id=\"T_57ae6_level0_row34\" class=\"row_heading level0 row34\" >насыщенный</th>\n",
       "      <td id=\"T_57ae6_row34_col0\" class=\"data row34 col0\" >0</td>\n",
       "      <td id=\"T_57ae6_row34_col1\" class=\"data row34 col1\" >1</td>\n",
       "      <td id=\"T_57ae6_row34_col2\" class=\"data row34 col2\" >0</td>\n",
       "      <td id=\"T_57ae6_row34_col3\" class=\"data row34 col3\" >0</td>\n",
       "      <td id=\"T_57ae6_row34_col4\" class=\"data row34 col4\" >0</td>\n",
       "      <td id=\"T_57ae6_row34_col5\" class=\"data row34 col5\" >0</td>\n",
       "    </tr>\n",
       "    <tr>\n",
       "      <th id=\"T_57ae6_level0_row35\" class=\"row_heading level0 row35\" >красота</th>\n",
       "      <td id=\"T_57ae6_row35_col0\" class=\"data row35 col0\" >0</td>\n",
       "      <td id=\"T_57ae6_row35_col1\" class=\"data row35 col1\" >1</td>\n",
       "      <td id=\"T_57ae6_row35_col2\" class=\"data row35 col2\" >0</td>\n",
       "      <td id=\"T_57ae6_row35_col3\" class=\"data row35 col3\" >0</td>\n",
       "      <td id=\"T_57ae6_row35_col4\" class=\"data row35 col4\" >0</td>\n",
       "      <td id=\"T_57ae6_row35_col5\" class=\"data row35 col5\" >0</td>\n",
       "    </tr>\n",
       "    <tr>\n",
       "      <th id=\"T_57ae6_level0_row36\" class=\"row_heading level0 row36\" >заключить</th>\n",
       "      <td id=\"T_57ae6_row36_col0\" class=\"data row36 col0\" >0</td>\n",
       "      <td id=\"T_57ae6_row36_col1\" class=\"data row36 col1\" >0</td>\n",
       "      <td id=\"T_57ae6_row36_col2\" class=\"data row36 col2\" >0</td>\n",
       "      <td id=\"T_57ae6_row36_col3\" class=\"data row36 col3\" >1</td>\n",
       "      <td id=\"T_57ae6_row36_col4\" class=\"data row36 col4\" >0</td>\n",
       "      <td id=\"T_57ae6_row36_col5\" class=\"data row36 col5\" >0</td>\n",
       "    </tr>\n",
       "    <tr>\n",
       "      <th id=\"T_57ae6_level0_row37\" class=\"row_heading level0 row37\" >этот</th>\n",
       "      <td id=\"T_57ae6_row37_col0\" class=\"data row37 col0\" >0</td>\n",
       "      <td id=\"T_57ae6_row37_col1\" class=\"data row37 col1\" >0</td>\n",
       "      <td id=\"T_57ae6_row37_col2\" class=\"data row37 col2\" >1</td>\n",
       "      <td id=\"T_57ae6_row37_col3\" class=\"data row37 col3\" >0</td>\n",
       "      <td id=\"T_57ae6_row37_col4\" class=\"data row37 col4\" >0</td>\n",
       "      <td id=\"T_57ae6_row37_col5\" class=\"data row37 col5\" >1</td>\n",
       "    </tr>\n",
       "    <tr>\n",
       "      <th id=\"T_57ae6_level0_row38\" class=\"row_heading level0 row38\" >1day</th>\n",
       "      <td id=\"T_57ae6_row38_col0\" class=\"data row38 col0\" >1</td>\n",
       "      <td id=\"T_57ae6_row38_col1\" class=\"data row38 col1\" >0</td>\n",
       "      <td id=\"T_57ae6_row38_col2\" class=\"data row38 col2\" >0</td>\n",
       "      <td id=\"T_57ae6_row38_col3\" class=\"data row38 col3\" >0</td>\n",
       "      <td id=\"T_57ae6_row38_col4\" class=\"data row38 col4\" >1</td>\n",
       "      <td id=\"T_57ae6_row38_col5\" class=\"data row38 col5\" >0</td>\n",
       "    </tr>\n",
       "    <tr>\n",
       "      <th id=\"T_57ae6_level0_row39\" class=\"row_heading level0 row39\" >oneday</th>\n",
       "      <td id=\"T_57ae6_row39_col0\" class=\"data row39 col0\" >1</td>\n",
       "      <td id=\"T_57ae6_row39_col1\" class=\"data row39 col1\" >0</td>\n",
       "      <td id=\"T_57ae6_row39_col2\" class=\"data row39 col2\" >0</td>\n",
       "      <td id=\"T_57ae6_row39_col3\" class=\"data row39 col3\" >0</td>\n",
       "      <td id=\"T_57ae6_row39_col4\" class=\"data row39 col4\" >0</td>\n",
       "      <td id=\"T_57ae6_row39_col5\" class=\"data row39 col5\" >0</td>\n",
       "    </tr>\n",
       "    <tr>\n",
       "      <th id=\"T_57ae6_level0_row40\" class=\"row_heading level0 row40\" >colors</th>\n",
       "      <td id=\"T_57ae6_row40_col0\" class=\"data row40 col0\" >1</td>\n",
       "      <td id=\"T_57ae6_row40_col1\" class=\"data row40 col1\" >1</td>\n",
       "      <td id=\"T_57ae6_row40_col2\" class=\"data row40 col2\" >0</td>\n",
       "      <td id=\"T_57ae6_row40_col3\" class=\"data row40 col3\" >0</td>\n",
       "      <td id=\"T_57ae6_row40_col4\" class=\"data row40 col4\" >0</td>\n",
       "      <td id=\"T_57ae6_row40_col5\" class=\"data row40 col5\" >0</td>\n",
       "    </tr>\n",
       "    <tr>\n",
       "      <th id=\"T_57ae6_level0_row41\" class=\"row_heading level0 row41\" >подойти</th>\n",
       "      <td id=\"T_57ae6_row41_col0\" class=\"data row41 col0\" >0</td>\n",
       "      <td id=\"T_57ae6_row41_col1\" class=\"data row41 col1\" >1</td>\n",
       "      <td id=\"T_57ae6_row41_col2\" class=\"data row41 col2\" >0</td>\n",
       "      <td id=\"T_57ae6_row41_col3\" class=\"data row41 col3\" >0</td>\n",
       "      <td id=\"T_57ae6_row41_col4\" class=\"data row41 col4\" >0</td>\n",
       "      <td id=\"T_57ae6_row41_col5\" class=\"data row41 col5\" >0</td>\n",
       "    </tr>\n",
       "    <tr>\n",
       "      <th id=\"T_57ae6_level0_row42\" class=\"row_heading level0 row42\" >90</th>\n",
       "      <td id=\"T_57ae6_row42_col0\" class=\"data row42 col0\" >1</td>\n",
       "      <td id=\"T_57ae6_row42_col1\" class=\"data row42 col1\" >0</td>\n",
       "      <td id=\"T_57ae6_row42_col2\" class=\"data row42 col2\" >0</td>\n",
       "      <td id=\"T_57ae6_row42_col3\" class=\"data row42 col3\" >1</td>\n",
       "      <td id=\"T_57ae6_row42_col4\" class=\"data row42 col4\" >1</td>\n",
       "      <td id=\"T_57ae6_row42_col5\" class=\"data row42 col5\" >0</td>\n",
       "    </tr>\n",
       "    <tr>\n",
       "      <th id=\"T_57ae6_level0_row43\" class=\"row_heading level0 row43\" >myday</th>\n",
       "      <td id=\"T_57ae6_row43_col0\" class=\"data row43 col0\" >1</td>\n",
       "      <td id=\"T_57ae6_row43_col1\" class=\"data row43 col1\" >0</td>\n",
       "      <td id=\"T_57ae6_row43_col2\" class=\"data row43 col2\" >0</td>\n",
       "      <td id=\"T_57ae6_row43_col3\" class=\"data row43 col3\" >0</td>\n",
       "      <td id=\"T_57ae6_row43_col4\" class=\"data row43 col4\" >0</td>\n",
       "      <td id=\"T_57ae6_row43_col5\" class=\"data row43 col5\" >0</td>\n",
       "    </tr>\n",
       "    <tr>\n",
       "      <th id=\"T_57ae6_level0_row44\" class=\"row_heading level0 row44\" >3в1</th>\n",
       "      <td id=\"T_57ae6_row44_col0\" class=\"data row44 col0\" >0</td>\n",
       "      <td id=\"T_57ae6_row44_col1\" class=\"data row44 col1\" >0</td>\n",
       "      <td id=\"T_57ae6_row44_col2\" class=\"data row44 col2\" >0</td>\n",
       "      <td id=\"T_57ae6_row44_col3\" class=\"data row44 col3\" >1</td>\n",
       "      <td id=\"T_57ae6_row44_col4\" class=\"data row44 col4\" >0</td>\n",
       "      <td id=\"T_57ae6_row44_col5\" class=\"data row44 col5\" >0</td>\n",
       "    </tr>\n",
       "    <tr>\n",
       "      <th id=\"T_57ae6_level0_row45\" class=\"row_heading level0 row45\" >здоровье</th>\n",
       "      <td id=\"T_57ae6_row45_col0\" class=\"data row45 col0\" >0</td>\n",
       "      <td id=\"T_57ae6_row45_col1\" class=\"data row45 col1\" >0</td>\n",
       "      <td id=\"T_57ae6_row45_col2\" class=\"data row45 col2\" >0</td>\n",
       "      <td id=\"T_57ae6_row45_col3\" class=\"data row45 col3\" >1</td>\n",
       "      <td id=\"T_57ae6_row45_col4\" class=\"data row45 col4\" >0</td>\n",
       "      <td id=\"T_57ae6_row45_col5\" class=\"data row45 col5\" >0</td>\n",
       "    </tr>\n",
       "    <tr>\n",
       "      <th id=\"T_57ae6_level0_row46\" class=\"row_heading level0 row46\" >128</th>\n",
       "      <td id=\"T_57ae6_row46_col0\" class=\"data row46 col0\" >0</td>\n",
       "      <td id=\"T_57ae6_row46_col1\" class=\"data row46 col1\" >0</td>\n",
       "      <td id=\"T_57ae6_row46_col2\" class=\"data row46 col2\" >0</td>\n",
       "      <td id=\"T_57ae6_row46_col3\" class=\"data row46 col3\" >0</td>\n",
       "      <td id=\"T_57ae6_row46_col4\" class=\"data row46 col4\" >1</td>\n",
       "      <td id=\"T_57ae6_row46_col5\" class=\"data row46 col5\" >0</td>\n",
       "    </tr>\n",
       "    <tr>\n",
       "      <th id=\"T_57ae6_level0_row47\" class=\"row_heading level0 row47\" >экстратонкий</th>\n",
       "      <td id=\"T_57ae6_row47_col0\" class=\"data row47 col0\" >0</td>\n",
       "      <td id=\"T_57ae6_row47_col1\" class=\"data row47 col1\" >0</td>\n",
       "      <td id=\"T_57ae6_row47_col2\" class=\"data row47 col2\" >0</td>\n",
       "      <td id=\"T_57ae6_row47_col3\" class=\"data row47 col3\" >0</td>\n",
       "      <td id=\"T_57ae6_row47_col4\" class=\"data row47 col4\" >0</td>\n",
       "      <td id=\"T_57ae6_row47_col5\" class=\"data row47 col5\" >1</td>\n",
       "    </tr>\n",
       "    <tr>\n",
       "      <th id=\"T_57ae6_level0_row48\" class=\"row_heading level0 row48\" >заявка</th>\n",
       "      <td id=\"T_57ae6_row48_col0\" class=\"data row48 col0\" >0</td>\n",
       "      <td id=\"T_57ae6_row48_col1\" class=\"data row48 col1\" >0</td>\n",
       "      <td id=\"T_57ae6_row48_col2\" class=\"data row48 col2\" >0</td>\n",
       "      <td id=\"T_57ae6_row48_col3\" class=\"data row48 col3\" >1</td>\n",
       "      <td id=\"T_57ae6_row48_col4\" class=\"data row48 col4\" >0</td>\n",
       "      <td id=\"T_57ae6_row48_col5\" class=\"data row48 col5\" >0</td>\n",
       "    </tr>\n",
       "    <tr>\n",
       "      <th id=\"T_57ae6_level0_row49\" class=\"row_heading level0 row49\" >ясный</th>\n",
       "      <td id=\"T_57ae6_row49_col0\" class=\"data row49 col0\" >0</td>\n",
       "      <td id=\"T_57ae6_row49_col1\" class=\"data row49 col1\" >0</td>\n",
       "      <td id=\"T_57ae6_row49_col2\" class=\"data row49 col2\" >1</td>\n",
       "      <td id=\"T_57ae6_row49_col3\" class=\"data row49 col3\" >0</td>\n",
       "      <td id=\"T_57ae6_row49_col4\" class=\"data row49 col4\" >0</td>\n",
       "      <td id=\"T_57ae6_row49_col5\" class=\"data row49 col5\" >1</td>\n",
       "    </tr>\n",
       "    <tr>\n",
       "      <th id=\"T_57ae6_level0_row50\" class=\"row_heading level0 row50\" >87</th>\n",
       "      <td id=\"T_57ae6_row50_col0\" class=\"data row50 col0\" >0</td>\n",
       "      <td id=\"T_57ae6_row50_col1\" class=\"data row50 col1\" >0</td>\n",
       "      <td id=\"T_57ae6_row50_col2\" class=\"data row50 col2\" >1</td>\n",
       "      <td id=\"T_57ae6_row50_col3\" class=\"data row50 col3\" >0</td>\n",
       "      <td id=\"T_57ae6_row50_col4\" class=\"data row50 col4\" >0</td>\n",
       "      <td id=\"T_57ae6_row50_col5\" class=\"data row50 col5\" >0</td>\n",
       "    </tr>\n",
       "    <tr>\n",
       "      <th id=\"T_57ae6_level0_row51\" class=\"row_heading level0 row51\" >hydraclear</th>\n",
       "      <td id=\"T_57ae6_row51_col0\" class=\"data row51 col0\" >1</td>\n",
       "      <td id=\"T_57ae6_row51_col1\" class=\"data row51 col1\" >0</td>\n",
       "      <td id=\"T_57ae6_row51_col2\" class=\"data row51 col2\" >0</td>\n",
       "      <td id=\"T_57ae6_row51_col3\" class=\"data row51 col3\" >0</td>\n",
       "      <td id=\"T_57ae6_row51_col4\" class=\"data row51 col4\" >0</td>\n",
       "      <td id=\"T_57ae6_row51_col5\" class=\"data row51 col5\" >0</td>\n",
       "    </tr>\n",
       "    <tr>\n",
       "      <th id=\"T_57ae6_level0_row52\" class=\"row_heading level0 row52\" >искажение</th>\n",
       "      <td id=\"T_57ae6_row52_col0\" class=\"data row52 col0\" >0</td>\n",
       "      <td id=\"T_57ae6_row52_col1\" class=\"data row52 col1\" >1</td>\n",
       "      <td id=\"T_57ae6_row52_col2\" class=\"data row52 col2\" >0</td>\n",
       "      <td id=\"T_57ae6_row52_col3\" class=\"data row52 col3\" >0</td>\n",
       "      <td id=\"T_57ae6_row52_col4\" class=\"data row52 col4\" >0</td>\n",
       "      <td id=\"T_57ae6_row52_col5\" class=\"data row52 col5\" >0</td>\n",
       "    </tr>\n",
       "    <tr>\n",
       "      <th id=\"T_57ae6_level0_row53\" class=\"row_heading level0 row53\" >экономичный</th>\n",
       "      <td id=\"T_57ae6_row53_col0\" class=\"data row53 col0\" >0</td>\n",
       "      <td id=\"T_57ae6_row53_col1\" class=\"data row53 col1\" >0</td>\n",
       "      <td id=\"T_57ae6_row53_col2\" class=\"data row53 col2\" >0</td>\n",
       "      <td id=\"T_57ae6_row53_col3\" class=\"data row53 col3\" >0</td>\n",
       "      <td id=\"T_57ae6_row53_col4\" class=\"data row53 col4\" >0</td>\n",
       "      <td id=\"T_57ae6_row53_col5\" class=\"data row53 col5\" >1</td>\n",
       "    </tr>\n",
       "    <tr>\n",
       "      <th id=\"T_57ae6_level0_row54\" class=\"row_heading level0 row54\" >3pk</th>\n",
       "      <td id=\"T_57ae6_row54_col0\" class=\"data row54 col0\" >0</td>\n",
       "      <td id=\"T_57ae6_row54_col1\" class=\"data row54 col1\" >0</td>\n",
       "      <td id=\"T_57ae6_row54_col2\" class=\"data row54 col2\" >0</td>\n",
       "      <td id=\"T_57ae6_row54_col3\" class=\"data row54 col3\" >0</td>\n",
       "      <td id=\"T_57ae6_row54_col4\" class=\"data row54 col4\" >1</td>\n",
       "      <td id=\"T_57ae6_row54_col5\" class=\"data row54 col5\" >0</td>\n",
       "    </tr>\n",
       "    <tr>\n",
       "      <th id=\"T_57ae6_level0_row55\" class=\"row_heading level0 row55\" >air</th>\n",
       "      <td id=\"T_57ae6_row55_col0\" class=\"data row55 col0\" >1</td>\n",
       "      <td id=\"T_57ae6_row55_col1\" class=\"data row55 col1\" >1</td>\n",
       "      <td id=\"T_57ae6_row55_col2\" class=\"data row55 col2\" >1</td>\n",
       "      <td id=\"T_57ae6_row55_col3\" class=\"data row55 col3\" >0</td>\n",
       "      <td id=\"T_57ae6_row55_col4\" class=\"data row55 col4\" >1</td>\n",
       "      <td id=\"T_57ae6_row55_col5\" class=\"data row55 col5\" >0</td>\n",
       "    </tr>\n",
       "    <tr>\n",
       "      <th id=\"T_57ae6_level0_row56\" class=\"row_heading level0 row56\" >здоровый</th>\n",
       "      <td id=\"T_57ae6_row56_col0\" class=\"data row56 col0\" >0</td>\n",
       "      <td id=\"T_57ae6_row56_col1\" class=\"data row56 col1\" >0</td>\n",
       "      <td id=\"T_57ae6_row56_col2\" class=\"data row56 col2\" >0</td>\n",
       "      <td id=\"T_57ae6_row56_col3\" class=\"data row56 col3\" >1</td>\n",
       "      <td id=\"T_57ae6_row56_col4\" class=\"data row56 col4\" >0</td>\n",
       "      <td id=\"T_57ae6_row56_col5\" class=\"data row56 col5\" >0</td>\n",
       "    </tr>\n",
       "    <tr>\n",
       "      <th id=\"T_57ae6_level0_row57\" class=\"row_heading level0 row57\" >сохранять</th>\n",
       "      <td id=\"T_57ae6_row57_col0\" class=\"data row57 col0\" >0</td>\n",
       "      <td id=\"T_57ae6_row57_col1\" class=\"data row57 col1\" >1</td>\n",
       "      <td id=\"T_57ae6_row57_col2\" class=\"data row57 col2\" >0</td>\n",
       "      <td id=\"T_57ae6_row57_col3\" class=\"data row57 col3\" >0</td>\n",
       "      <td id=\"T_57ae6_row57_col4\" class=\"data row57 col4\" >0</td>\n",
       "      <td id=\"T_57ae6_row57_col5\" class=\"data row57 col5\" >0</td>\n",
       "    </tr>\n",
       "    <tr>\n",
       "      <th id=\"T_57ae6_level0_row58\" class=\"row_heading level0 row58\" >ощутить</th>\n",
       "      <td id=\"T_57ae6_row58_col0\" class=\"data row58 col0\" >0</td>\n",
       "      <td id=\"T_57ae6_row58_col1\" class=\"data row58 col1\" >1</td>\n",
       "      <td id=\"T_57ae6_row58_col2\" class=\"data row58 col2\" >0</td>\n",
       "      <td id=\"T_57ae6_row58_col3\" class=\"data row58 col3\" >0</td>\n",
       "      <td id=\"T_57ae6_row58_col4\" class=\"data row58 col4\" >0</td>\n",
       "      <td id=\"T_57ae6_row58_col5\" class=\"data row58 col5\" >0</td>\n",
       "    </tr>\n",
       "    <tr>\n",
       "      <th id=\"T_57ae6_level0_row59\" class=\"row_heading level0 row59\" >идеально</th>\n",
       "      <td id=\"T_57ae6_row59_col0\" class=\"data row59 col0\" >0</td>\n",
       "      <td id=\"T_57ae6_row59_col1\" class=\"data row59 col1\" >1</td>\n",
       "      <td id=\"T_57ae6_row59_col2\" class=\"data row59 col2\" >0</td>\n",
       "      <td id=\"T_57ae6_row59_col3\" class=\"data row59 col3\" >1</td>\n",
       "      <td id=\"T_57ae6_row59_col4\" class=\"data row59 col4\" >0</td>\n",
       "      <td id=\"T_57ae6_row59_col5\" class=\"data row59 col5\" >0</td>\n",
       "    </tr>\n",
       "    <tr>\n",
       "      <th id=\"T_57ae6_level0_row60\" class=\"row_heading level0 row60\" >эра</th>\n",
       "      <td id=\"T_57ae6_row60_col0\" class=\"data row60 col0\" >0</td>\n",
       "      <td id=\"T_57ae6_row60_col1\" class=\"data row60 col1\" >0</td>\n",
       "      <td id=\"T_57ae6_row60_col2\" class=\"data row60 col2\" >1</td>\n",
       "      <td id=\"T_57ae6_row60_col3\" class=\"data row60 col3\" >0</td>\n",
       "      <td id=\"T_57ae6_row60_col4\" class=\"data row60 col4\" >0</td>\n",
       "      <td id=\"T_57ae6_row60_col5\" class=\"data row60 col5\" >1</td>\n",
       "    </tr>\n",
       "    <tr>\n",
       "      <th id=\"T_57ae6_level0_row61\" class=\"row_heading level0 row61\" >day</th>\n",
       "      <td id=\"T_57ae6_row61_col0\" class=\"data row61 col0\" >1</td>\n",
       "      <td id=\"T_57ae6_row61_col1\" class=\"data row61 col1\" >0</td>\n",
       "      <td id=\"T_57ae6_row61_col2\" class=\"data row61 col2\" >0</td>\n",
       "      <td id=\"T_57ae6_row61_col3\" class=\"data row61 col3\" >0</td>\n",
       "      <td id=\"T_57ae6_row61_col4\" class=\"data row61 col4\" >0</td>\n",
       "      <td id=\"T_57ae6_row61_col5\" class=\"data row61 col5\" >0</td>\n",
       "    </tr>\n",
       "    <tr>\n",
       "      <th id=\"T_57ae6_level0_row62\" class=\"row_heading level0 row62\" >ярко</th>\n",
       "      <td id=\"T_57ae6_row62_col0\" class=\"data row62 col0\" >0</td>\n",
       "      <td id=\"T_57ae6_row62_col1\" class=\"data row62 col1\" >0</td>\n",
       "      <td id=\"T_57ae6_row62_col2\" class=\"data row62 col2\" >1</td>\n",
       "      <td id=\"T_57ae6_row62_col3\" class=\"data row62 col3\" >0</td>\n",
       "      <td id=\"T_57ae6_row62_col4\" class=\"data row62 col4\" >0</td>\n",
       "      <td id=\"T_57ae6_row62_col5\" class=\"data row62 col5\" >1</td>\n",
       "    </tr>\n",
       "    <tr>\n",
       "      <th id=\"T_57ae6_level0_row63\" class=\"row_heading level0 row63\" >зрение</th>\n",
       "      <td id=\"T_57ae6_row63_col0\" class=\"data row63 col0\" >0</td>\n",
       "      <td id=\"T_57ae6_row63_col1\" class=\"data row63 col1\" >0</td>\n",
       "      <td id=\"T_57ae6_row63_col2\" class=\"data row63 col2\" >0</td>\n",
       "      <td id=\"T_57ae6_row63_col3\" class=\"data row63 col3\" >1</td>\n",
       "      <td id=\"T_57ae6_row63_col4\" class=\"data row63 col4\" >0</td>\n",
       "      <td id=\"T_57ae6_row63_col5\" class=\"data row63 col5\" >0</td>\n",
       "    </tr>\n",
       "    <tr>\n",
       "      <th id=\"T_57ae6_level0_row64\" class=\"row_heading level0 row64\" >30</th>\n",
       "      <td id=\"T_57ae6_row64_col0\" class=\"data row64 col0\" >1</td>\n",
       "      <td id=\"T_57ae6_row64_col1\" class=\"data row64 col1\" >0</td>\n",
       "      <td id=\"T_57ae6_row64_col2\" class=\"data row64 col2\" >0</td>\n",
       "      <td id=\"T_57ae6_row64_col3\" class=\"data row64 col3\" >1</td>\n",
       "      <td id=\"T_57ae6_row64_col4\" class=\"data row64 col4\" >1</td>\n",
       "      <td id=\"T_57ae6_row64_col5\" class=\"data row64 col5\" >0</td>\n",
       "    </tr>\n",
       "    <tr>\n",
       "      <th id=\"T_57ae6_level0_row65\" class=\"row_heading level0 row65\" >эластичный</th>\n",
       "      <td id=\"T_57ae6_row65_col0\" class=\"data row65 col0\" >0</td>\n",
       "      <td id=\"T_57ae6_row65_col1\" class=\"data row65 col1\" >0</td>\n",
       "      <td id=\"T_57ae6_row65_col2\" class=\"data row65 col2\" >1</td>\n",
       "      <td id=\"T_57ae6_row65_col3\" class=\"data row65 col3\" >0</td>\n",
       "      <td id=\"T_57ae6_row65_col4\" class=\"data row65 col4\" >0</td>\n",
       "      <td id=\"T_57ae6_row65_col5\" class=\"data row65 col5\" >1</td>\n",
       "    </tr>\n",
       "    <tr>\n",
       "      <th id=\"T_57ae6_level0_row66\" class=\"row_heading level0 row66\" >30pk</th>\n",
       "      <td id=\"T_57ae6_row66_col0\" class=\"data row66 col0\" >0</td>\n",
       "      <td id=\"T_57ae6_row66_col1\" class=\"data row66 col1\" >0</td>\n",
       "      <td id=\"T_57ae6_row66_col2\" class=\"data row66 col2\" >0</td>\n",
       "      <td id=\"T_57ae6_row66_col3\" class=\"data row66 col3\" >0</td>\n",
       "      <td id=\"T_57ae6_row66_col4\" class=\"data row66 col4\" >1</td>\n",
       "      <td id=\"T_57ae6_row66_col5\" class=\"data row66 col5\" >0</td>\n",
       "    </tr>\n",
       "    <tr>\n",
       "      <th id=\"T_57ae6_level0_row67\" class=\"row_heading level0 row67\" >avaira</th>\n",
       "      <td id=\"T_57ae6_row67_col0\" class=\"data row67 col0\" >0</td>\n",
       "      <td id=\"T_57ae6_row67_col1\" class=\"data row67 col1\" >0</td>\n",
       "      <td id=\"T_57ae6_row67_col2\" class=\"data row67 col2\" >0</td>\n",
       "      <td id=\"T_57ae6_row67_col3\" class=\"data row67 col3\" >0</td>\n",
       "      <td id=\"T_57ae6_row67_col4\" class=\"data row67 col4\" >1</td>\n",
       "      <td id=\"T_57ae6_row67_col5\" class=\"data row67 col5\" >0</td>\n",
       "    </tr>\n",
       "    <tr>\n",
       "      <th id=\"T_57ae6_level0_row68\" class=\"row_heading level0 row68\" >6pk</th>\n",
       "      <td id=\"T_57ae6_row68_col0\" class=\"data row68 col0\" >0</td>\n",
       "      <td id=\"T_57ae6_row68_col1\" class=\"data row68 col1\" >0</td>\n",
       "      <td id=\"T_57ae6_row68_col2\" class=\"data row68 col2\" >1</td>\n",
       "      <td id=\"T_57ae6_row68_col3\" class=\"data row68 col3\" >0</td>\n",
       "      <td id=\"T_57ae6_row68_col4\" class=\"data row68 col4\" >0</td>\n",
       "      <td id=\"T_57ae6_row68_col5\" class=\"data row68 col5\" >0</td>\n",
       "    </tr>\n",
       "    <tr>\n",
       "      <th id=\"T_57ae6_level0_row69\" class=\"row_heading level0 row69\" >biofinity</th>\n",
       "      <td id=\"T_57ae6_row69_col0\" class=\"data row69 col0\" >1</td>\n",
       "      <td id=\"T_57ae6_row69_col1\" class=\"data row69 col1\" >1</td>\n",
       "      <td id=\"T_57ae6_row69_col2\" class=\"data row69 col2\" >0</td>\n",
       "      <td id=\"T_57ae6_row69_col3\" class=\"data row69 col3\" >0</td>\n",
       "      <td id=\"T_57ae6_row69_col4\" class=\"data row69 col4\" >0</td>\n",
       "      <td id=\"T_57ae6_row69_col5\" class=\"data row69 col5\" >0</td>\n",
       "    </tr>\n",
       "    <tr>\n",
       "      <th id=\"T_57ae6_level0_row70\" class=\"row_heading level0 row70\" >зрачок</th>\n",
       "      <td id=\"T_57ae6_row70_col0\" class=\"data row70 col0\" >0</td>\n",
       "      <td id=\"T_57ae6_row70_col1\" class=\"data row70 col1\" >0</td>\n",
       "      <td id=\"T_57ae6_row70_col2\" class=\"data row70 col2\" >0</td>\n",
       "      <td id=\"T_57ae6_row70_col3\" class=\"data row70 col3\" >1</td>\n",
       "      <td id=\"T_57ae6_row70_col4\" class=\"data row70 col4\" >0</td>\n",
       "      <td id=\"T_57ae6_row70_col5\" class=\"data row70 col5\" >0</td>\n",
       "    </tr>\n",
       "    <tr>\n",
       "      <th id=\"T_57ae6_level0_row71\" class=\"row_heading level0 row71\" >freshlook</th>\n",
       "      <td id=\"T_57ae6_row71_col0\" class=\"data row71 col0\" >1</td>\n",
       "      <td id=\"T_57ae6_row71_col1\" class=\"data row71 col1\" >0</td>\n",
       "      <td id=\"T_57ae6_row71_col2\" class=\"data row71 col2\" >0</td>\n",
       "      <td id=\"T_57ae6_row71_col3\" class=\"data row71 col3\" >0</td>\n",
       "      <td id=\"T_57ae6_row71_col4\" class=\"data row71 col4\" >0</td>\n",
       "      <td id=\"T_57ae6_row71_col5\" class=\"data row71 col5\" >0</td>\n",
       "    </tr>\n",
       "    <tr>\n",
       "      <th id=\"T_57ae6_level0_row72\" class=\"row_heading level0 row72\" >colorblends</th>\n",
       "      <td id=\"T_57ae6_row72_col0\" class=\"data row72 col0\" >1</td>\n",
       "      <td id=\"T_57ae6_row72_col1\" class=\"data row72 col1\" >0</td>\n",
       "      <td id=\"T_57ae6_row72_col2\" class=\"data row72 col2\" >0</td>\n",
       "      <td id=\"T_57ae6_row72_col3\" class=\"data row72 col3\" >0</td>\n",
       "      <td id=\"T_57ae6_row72_col4\" class=\"data row72 col4\" >0</td>\n",
       "      <td id=\"T_57ae6_row72_col5\" class=\"data row72 col5\" >0</td>\n",
       "    </tr>\n",
       "    <tr>\n",
       "      <th id=\"T_57ae6_level0_row73\" class=\"row_heading level0 row73\" >закруглить</th>\n",
       "      <td id=\"T_57ae6_row73_col0\" class=\"data row73 col0\" >0</td>\n",
       "      <td id=\"T_57ae6_row73_col1\" class=\"data row73 col1\" >0</td>\n",
       "      <td id=\"T_57ae6_row73_col2\" class=\"data row73 col2\" >0</td>\n",
       "      <td id=\"T_57ae6_row73_col3\" class=\"data row73 col3\" >1</td>\n",
       "      <td id=\"T_57ae6_row73_col4\" class=\"data row73 col4\" >0</td>\n",
       "      <td id=\"T_57ae6_row73_col5\" class=\"data row73 col5\" >0</td>\n",
       "    </tr>\n",
       "    <tr>\n",
       "      <th id=\"T_57ae6_level0_row74\" class=\"row_heading level0 row74\" >95</th>\n",
       "      <td id=\"T_57ae6_row74_col0\" class=\"data row74 col0\" >0</td>\n",
       "      <td id=\"T_57ae6_row74_col1\" class=\"data row74 col1\" >0</td>\n",
       "      <td id=\"T_57ae6_row74_col2\" class=\"data row74 col2\" >1</td>\n",
       "      <td id=\"T_57ae6_row74_col3\" class=\"data row74 col3\" >0</td>\n",
       "      <td id=\"T_57ae6_row74_col4\" class=\"data row74 col4\" >0</td>\n",
       "      <td id=\"T_57ae6_row74_col5\" class=\"data row74 col5\" >0</td>\n",
       "    </tr>\n",
       "    <tr>\n",
       "      <th id=\"T_57ae6_level0_row75\" class=\"row_heading level0 row75\" >яркий</th>\n",
       "      <td id=\"T_57ae6_row75_col0\" class=\"data row75 col0\" >0</td>\n",
       "      <td id=\"T_57ae6_row75_col1\" class=\"data row75 col1\" >0</td>\n",
       "      <td id=\"T_57ae6_row75_col2\" class=\"data row75 col2\" >1</td>\n",
       "      <td id=\"T_57ae6_row75_col3\" class=\"data row75 col3\" >0</td>\n",
       "      <td id=\"T_57ae6_row75_col4\" class=\"data row75 col4\" >0</td>\n",
       "      <td id=\"T_57ae6_row75_col5\" class=\"data row75 col5\" >1</td>\n",
       "    </tr>\n",
       "    <tr>\n",
       "      <th id=\"T_57ae6_level0_row76\" class=\"row_heading level0 row76\" >alcon</th>\n",
       "      <td id=\"T_57ae6_row76_col0\" class=\"data row76 col0\" >0</td>\n",
       "      <td id=\"T_57ae6_row76_col1\" class=\"data row76 col1\" >1</td>\n",
       "      <td id=\"T_57ae6_row76_col2\" class=\"data row76 col2\" >1</td>\n",
       "      <td id=\"T_57ae6_row76_col3\" class=\"data row76 col3\" >0</td>\n",
       "      <td id=\"T_57ae6_row76_col4\" class=\"data row76 col4\" >0</td>\n",
       "      <td id=\"T_57ae6_row76_col5\" class=\"data row76 col5\" >0</td>\n",
       "    </tr>\n",
       "    <tr>\n",
       "      <th id=\"T_57ae6_level0_row77\" class=\"row_heading level0 row77\" >этафилкон</th>\n",
       "      <td id=\"T_57ae6_row77_col0\" class=\"data row77 col0\" >0</td>\n",
       "      <td id=\"T_57ae6_row77_col1\" class=\"data row77 col1\" >0</td>\n",
       "      <td id=\"T_57ae6_row77_col2\" class=\"data row77 col2\" >1</td>\n",
       "      <td id=\"T_57ae6_row77_col3\" class=\"data row77 col3\" >0</td>\n",
       "      <td id=\"T_57ae6_row77_col4\" class=\"data row77 col4\" >0</td>\n",
       "      <td id=\"T_57ae6_row77_col5\" class=\"data row77 col5\" >1</td>\n",
       "    </tr>\n",
       "    <tr>\n",
       "      <th id=\"T_57ae6_level0_row78\" class=\"row_heading level0 row78\" >optosoft</th>\n",
       "      <td id=\"T_57ae6_row78_col0\" class=\"data row78 col0\" >1</td>\n",
       "      <td id=\"T_57ae6_row78_col1\" class=\"data row78 col1\" >0</td>\n",
       "      <td id=\"T_57ae6_row78_col2\" class=\"data row78 col2\" >0</td>\n",
       "      <td id=\"T_57ae6_row78_col3\" class=\"data row78 col3\" >0</td>\n",
       "      <td id=\"T_57ae6_row78_col4\" class=\"data row78 col4\" >0</td>\n",
       "      <td id=\"T_57ae6_row78_col5\" class=\"data row78 col5\" >0</td>\n",
       "    </tr>\n",
       "    <tr>\n",
       "      <th id=\"T_57ae6_level0_row79\" class=\"row_heading level0 row79\" >59</th>\n",
       "      <td id=\"T_57ae6_row79_col0\" class=\"data row79 col0\" >0</td>\n",
       "      <td id=\"T_57ae6_row79_col1\" class=\"data row79 col1\" >0</td>\n",
       "      <td id=\"T_57ae6_row79_col2\" class=\"data row79 col2\" >1</td>\n",
       "      <td id=\"T_57ae6_row79_col3\" class=\"data row79 col3\" >0</td>\n",
       "      <td id=\"T_57ae6_row79_col4\" class=\"data row79 col4\" >0</td>\n",
       "      <td id=\"T_57ae6_row79_col5\" class=\"data row79 col5\" >0</td>\n",
       "    </tr>\n",
       "    <tr>\n",
       "      <th id=\"T_57ae6_level0_row80\" class=\"row_heading level0 row80\" >precision1</th>\n",
       "      <td id=\"T_57ae6_row80_col0\" class=\"data row80 col0\" >1</td>\n",
       "      <td id=\"T_57ae6_row80_col1\" class=\"data row80 col1\" >0</td>\n",
       "      <td id=\"T_57ae6_row80_col2\" class=\"data row80 col2\" >0</td>\n",
       "      <td id=\"T_57ae6_row80_col3\" class=\"data row80 col3\" >0</td>\n",
       "      <td id=\"T_57ae6_row80_col4\" class=\"data row80 col4\" >0</td>\n",
       "      <td id=\"T_57ae6_row80_col5\" class=\"data row80 col5\" >0</td>\n",
       "    </tr>\n",
       "    <tr>\n",
       "      <th id=\"T_57ae6_level0_row81\" class=\"row_heading level0 row81\" >78</th>\n",
       "      <td id=\"T_57ae6_row81_col0\" class=\"data row81 col0\" >0</td>\n",
       "      <td id=\"T_57ae6_row81_col1\" class=\"data row81 col1\" >0</td>\n",
       "      <td id=\"T_57ae6_row81_col2\" class=\"data row81 col2\" >1</td>\n",
       "      <td id=\"T_57ae6_row81_col3\" class=\"data row81 col3\" >0</td>\n",
       "      <td id=\"T_57ae6_row81_col4\" class=\"data row81 col4\" >0</td>\n",
       "      <td id=\"T_57ae6_row81_col5\" class=\"data row81 col5\" >0</td>\n",
       "    </tr>\n",
       "    <tr>\n",
       "      <th id=\"T_57ae6_level0_row82\" class=\"row_heading level0 row82\" >элемент</th>\n",
       "      <td id=\"T_57ae6_row82_col0\" class=\"data row82 col0\" >0</td>\n",
       "      <td id=\"T_57ae6_row82_col1\" class=\"data row82 col1\" >0</td>\n",
       "      <td id=\"T_57ae6_row82_col2\" class=\"data row82 col2\" >1</td>\n",
       "      <td id=\"T_57ae6_row82_col3\" class=\"data row82 col3\" >0</td>\n",
       "      <td id=\"T_57ae6_row82_col4\" class=\"data row82 col4\" >0</td>\n",
       "      <td id=\"T_57ae6_row82_col5\" class=\"data row82 col5\" >1</td>\n",
       "    </tr>\n",
       "    <tr>\n",
       "      <th id=\"T_57ae6_level0_row83\" class=\"row_heading level0 row83\" >это</th>\n",
       "      <td id=\"T_57ae6_row83_col0\" class=\"data row83 col0\" >0</td>\n",
       "      <td id=\"T_57ae6_row83_col1\" class=\"data row83 col1\" >0</td>\n",
       "      <td id=\"T_57ae6_row83_col2\" class=\"data row83 col2\" >1</td>\n",
       "      <td id=\"T_57ae6_row83_col3\" class=\"data row83 col3\" >0</td>\n",
       "      <td id=\"T_57ae6_row83_col4\" class=\"data row83 col4\" >0</td>\n",
       "      <td id=\"T_57ae6_row83_col5\" class=\"data row83 col5\" >0</td>\n",
       "    </tr>\n",
       "    <tr>\n",
       "      <th id=\"T_57ae6_level0_row84\" class=\"row_heading level0 row84\" >24</th>\n",
       "      <td id=\"T_57ae6_row84_col0\" class=\"data row84 col0\" >0</td>\n",
       "      <td id=\"T_57ae6_row84_col1\" class=\"data row84 col1\" >0</td>\n",
       "      <td id=\"T_57ae6_row84_col2\" class=\"data row84 col2\" >0</td>\n",
       "      <td id=\"T_57ae6_row84_col3\" class=\"data row84 col3\" >0</td>\n",
       "      <td id=\"T_57ae6_row84_col4\" class=\"data row84 col4\" >1</td>\n",
       "      <td id=\"T_57ae6_row84_col5\" class=\"data row84 col5\" >0</td>\n",
       "    </tr>\n",
       "    <tr>\n",
       "      <th id=\"T_57ae6_level0_row85\" class=\"row_heading level0 row85\" >плазменный</th>\n",
       "      <td id=\"T_57ae6_row85_col0\" class=\"data row85 col0\" >0</td>\n",
       "      <td id=\"T_57ae6_row85_col1\" class=\"data row85 col1\" >1</td>\n",
       "      <td id=\"T_57ae6_row85_col2\" class=\"data row85 col2\" >0</td>\n",
       "      <td id=\"T_57ae6_row85_col3\" class=\"data row85 col3\" >0</td>\n",
       "      <td id=\"T_57ae6_row85_col4\" class=\"data row85 col4\" >0</td>\n",
       "      <td id=\"T_57ae6_row85_col5\" class=\"data row85 col5\" >0</td>\n",
       "    </tr>\n",
       "    <tr>\n",
       "      <th id=\"T_57ae6_level0_row86\" class=\"row_heading level0 row86\" >daily</th>\n",
       "      <td id=\"T_57ae6_row86_col0\" class=\"data row86 col0\" >1</td>\n",
       "      <td id=\"T_57ae6_row86_col1\" class=\"data row86 col1\" >0</td>\n",
       "      <td id=\"T_57ae6_row86_col2\" class=\"data row86 col2\" >0</td>\n",
       "      <td id=\"T_57ae6_row86_col3\" class=\"data row86 col3\" >0</td>\n",
       "      <td id=\"T_57ae6_row86_col4\" class=\"data row86 col4\" >0</td>\n",
       "      <td id=\"T_57ae6_row86_col5\" class=\"data row86 col5\" >0</td>\n",
       "    </tr>\n",
       "    <tr>\n",
       "      <th id=\"T_57ae6_level0_row87\" class=\"row_heading level0 row87\" >05</th>\n",
       "      <td id=\"T_57ae6_row87_col0\" class=\"data row87 col0\" >0</td>\n",
       "      <td id=\"T_57ae6_row87_col1\" class=\"data row87 col1\" >0</td>\n",
       "      <td id=\"T_57ae6_row87_col2\" class=\"data row87 col2\" >0</td>\n",
       "      <td id=\"T_57ae6_row87_col3\" class=\"data row87 col3\" >0</td>\n",
       "      <td id=\"T_57ae6_row87_col4\" class=\"data row87 col4\" >1</td>\n",
       "      <td id=\"T_57ae6_row87_col5\" class=\"data row87 col5\" >0</td>\n",
       "    </tr>\n",
       "    <tr>\n",
       "      <th id=\"T_57ae6_level0_row88\" class=\"row_heading level0 row88\" >экран</th>\n",
       "      <td id=\"T_57ae6_row88_col0\" class=\"data row88 col0\" >0</td>\n",
       "      <td id=\"T_57ae6_row88_col1\" class=\"data row88 col1\" >0</td>\n",
       "      <td id=\"T_57ae6_row88_col2\" class=\"data row88 col2\" >0</td>\n",
       "      <td id=\"T_57ae6_row88_col3\" class=\"data row88 col3\" >0</td>\n",
       "      <td id=\"T_57ae6_row88_col4\" class=\"data row88 col4\" >0</td>\n",
       "      <td id=\"T_57ae6_row88_col5\" class=\"data row88 col5\" >1</td>\n",
       "    </tr>\n",
       "    <tr>\n",
       "      <th id=\"T_57ae6_level0_row89\" class=\"row_heading level0 row89\" >16</th>\n",
       "      <td id=\"T_57ae6_row89_col0\" class=\"data row89 col0\" >0</td>\n",
       "      <td id=\"T_57ae6_row89_col1\" class=\"data row89 col1\" >0</td>\n",
       "      <td id=\"T_57ae6_row89_col2\" class=\"data row89 col2\" >0</td>\n",
       "      <td id=\"T_57ae6_row89_col3\" class=\"data row89 col3\" >0</td>\n",
       "      <td id=\"T_57ae6_row89_col4\" class=\"data row89 col4\" >1</td>\n",
       "      <td id=\"T_57ae6_row89_col5\" class=\"data row89 col5\" >0</td>\n",
       "    </tr>\n",
       "    <tr>\n",
       "      <th id=\"T_57ae6_level0_row90\" class=\"row_heading level0 row90\" >штука</th>\n",
       "      <td id=\"T_57ae6_row90_col0\" class=\"data row90 col0\" >0</td>\n",
       "      <td id=\"T_57ae6_row90_col1\" class=\"data row90 col1\" >0</td>\n",
       "      <td id=\"T_57ae6_row90_col2\" class=\"data row90 col2\" >0</td>\n",
       "      <td id=\"T_57ae6_row90_col3\" class=\"data row90 col3\" >0</td>\n",
       "      <td id=\"T_57ae6_row90_col4\" class=\"data row90 col4\" >0</td>\n",
       "      <td id=\"T_57ae6_row90_col5\" class=\"data row90 col5\" >1</td>\n",
       "    </tr>\n",
       "    <tr>\n",
       "      <th id=\"T_57ae6_level0_row91\" class=\"row_heading level0 row91\" >надевание</th>\n",
       "      <td id=\"T_57ae6_row91_col0\" class=\"data row91 col0\" >0</td>\n",
       "      <td id=\"T_57ae6_row91_col1\" class=\"data row91 col1\" >1</td>\n",
       "      <td id=\"T_57ae6_row91_col2\" class=\"data row91 col2\" >0</td>\n",
       "      <td id=\"T_57ae6_row91_col3\" class=\"data row91 col3\" >0</td>\n",
       "      <td id=\"T_57ae6_row91_col4\" class=\"data row91 col4\" >0</td>\n",
       "      <td id=\"T_57ae6_row91_col5\" class=\"data row91 col5\" >0</td>\n",
       "    </tr>\n",
       "    <tr>\n",
       "      <th id=\"T_57ae6_level0_row92\" class=\"row_heading level0 row92\" >2014</th>\n",
       "      <td id=\"T_57ae6_row92_col0\" class=\"data row92 col0\" >0</td>\n",
       "      <td id=\"T_57ae6_row92_col1\" class=\"data row92 col1\" >0</td>\n",
       "      <td id=\"T_57ae6_row92_col2\" class=\"data row92 col2\" >0</td>\n",
       "      <td id=\"T_57ae6_row92_col3\" class=\"data row92 col3\" >0</td>\n",
       "      <td id=\"T_57ae6_row92_col4\" class=\"data row92 col4\" >1</td>\n",
       "      <td id=\"T_57ae6_row92_col5\" class=\"data row92 col5\" >0</td>\n",
       "    </tr>\n",
       "    <tr>\n",
       "      <th id=\"T_57ae6_level0_row93\" class=\"row_heading level0 row93\" >идеальный</th>\n",
       "      <td id=\"T_57ae6_row93_col0\" class=\"data row93 col0\" >0</td>\n",
       "      <td id=\"T_57ae6_row93_col1\" class=\"data row93 col1\" >0</td>\n",
       "      <td id=\"T_57ae6_row93_col2\" class=\"data row93 col2\" >0</td>\n",
       "      <td id=\"T_57ae6_row93_col3\" class=\"data row93 col3\" >1</td>\n",
       "      <td id=\"T_57ae6_row93_col4\" class=\"data row93 col4\" >0</td>\n",
       "      <td id=\"T_57ae6_row93_col5\" class=\"data row93 col5\" >0</td>\n",
       "    </tr>\n",
       "    <tr>\n",
       "      <th id=\"T_57ae6_level0_row94\" class=\"row_heading level0 row94\" >загрязнение</th>\n",
       "      <td id=\"T_57ae6_row94_col0\" class=\"data row94 col0\" >0</td>\n",
       "      <td id=\"T_57ae6_row94_col1\" class=\"data row94 col1\" >1</td>\n",
       "      <td id=\"T_57ae6_row94_col2\" class=\"data row94 col2\" >0</td>\n",
       "      <td id=\"T_57ae6_row94_col3\" class=\"data row94 col3\" >0</td>\n",
       "      <td id=\"T_57ae6_row94_col4\" class=\"data row94 col4\" >0</td>\n",
       "      <td id=\"T_57ae6_row94_col5\" class=\"data row94 col5\" >0</td>\n",
       "    </tr>\n",
       "    <tr>\n",
       "      <th id=\"T_57ae6_level0_row95\" class=\"row_heading level0 row95\" >повторять</th>\n",
       "      <td id=\"T_57ae6_row95_col0\" class=\"data row95 col0\" >0</td>\n",
       "      <td id=\"T_57ae6_row95_col1\" class=\"data row95 col1\" >1</td>\n",
       "      <td id=\"T_57ae6_row95_col2\" class=\"data row95 col2\" >0</td>\n",
       "      <td id=\"T_57ae6_row95_col3\" class=\"data row95 col3\" >0</td>\n",
       "      <td id=\"T_57ae6_row95_col4\" class=\"data row95 col4\" >0</td>\n",
       "      <td id=\"T_57ae6_row95_col5\" class=\"data row95 col5\" >0</td>\n",
       "    </tr>\n",
       "    <tr>\n",
       "      <th id=\"T_57ae6_level0_row96\" class=\"row_heading level0 row96\" >широкий</th>\n",
       "      <td id=\"T_57ae6_row96_col0\" class=\"data row96 col0\" >0</td>\n",
       "      <td id=\"T_57ae6_row96_col1\" class=\"data row96 col1\" >0</td>\n",
       "      <td id=\"T_57ae6_row96_col2\" class=\"data row96 col2\" >0</td>\n",
       "      <td id=\"T_57ae6_row96_col3\" class=\"data row96 col3\" >0</td>\n",
       "      <td id=\"T_57ae6_row96_col4\" class=\"data row96 col4\" >0</td>\n",
       "      <td id=\"T_57ae6_row96_col5\" class=\"data row96 col5\" >1</td>\n",
       "    </tr>\n",
       "    <tr>\n",
       "      <th id=\"T_57ae6_level0_row97\" class=\"row_heading level0 row97\" >10</th>\n",
       "      <td id=\"T_57ae6_row97_col0\" class=\"data row97 col0\" >0</td>\n",
       "      <td id=\"T_57ae6_row97_col1\" class=\"data row97 col1\" >0</td>\n",
       "      <td id=\"T_57ae6_row97_col2\" class=\"data row97 col2\" >0</td>\n",
       "      <td id=\"T_57ae6_row97_col3\" class=\"data row97 col3\" >0</td>\n",
       "      <td id=\"T_57ae6_row97_col4\" class=\"data row97 col4\" >1</td>\n",
       "      <td id=\"T_57ae6_row97_col5\" class=\"data row97 col5\" >0</td>\n",
       "    </tr>\n",
       "    <tr>\n",
       "      <th id=\"T_57ae6_level0_row98\" class=\"row_heading level0 row98\" >голубой</th>\n",
       "      <td id=\"T_57ae6_row98_col0\" class=\"data row98 col0\" >0</td>\n",
       "      <td id=\"T_57ae6_row98_col1\" class=\"data row98 col1\" >1</td>\n",
       "      <td id=\"T_57ae6_row98_col2\" class=\"data row98 col2\" >0</td>\n",
       "      <td id=\"T_57ae6_row98_col3\" class=\"data row98 col3\" >0</td>\n",
       "      <td id=\"T_57ae6_row98_col4\" class=\"data row98 col4\" >0</td>\n",
       "      <td id=\"T_57ae6_row98_col5\" class=\"data row98 col5\" >0</td>\n",
       "    </tr>\n",
       "    <tr>\n",
       "      <th id=\"T_57ae6_level0_row99\" class=\"row_heading level0 row99\" >900</th>\n",
       "      <td id=\"T_57ae6_row99_col0\" class=\"data row99 col0\" >0</td>\n",
       "      <td id=\"T_57ae6_row99_col1\" class=\"data row99 col1\" >0</td>\n",
       "      <td id=\"T_57ae6_row99_col2\" class=\"data row99 col2\" >1</td>\n",
       "      <td id=\"T_57ae6_row99_col3\" class=\"data row99 col3\" >0</td>\n",
       "      <td id=\"T_57ae6_row99_col4\" class=\"data row99 col4\" >0</td>\n",
       "      <td id=\"T_57ae6_row99_col5\" class=\"data row99 col5\" >0</td>\n",
       "    </tr>\n",
       "    <tr>\n",
       "      <th id=\"T_57ae6_level0_row100\" class=\"row_heading level0 row100\" >075</th>\n",
       "      <td id=\"T_57ae6_row100_col0\" class=\"data row100 col0\" >0</td>\n",
       "      <td id=\"T_57ae6_row100_col1\" class=\"data row100 col1\" >0</td>\n",
       "      <td id=\"T_57ae6_row100_col2\" class=\"data row100 col2\" >0</td>\n",
       "      <td id=\"T_57ae6_row100_col3\" class=\"data row100 col3\" >0</td>\n",
       "      <td id=\"T_57ae6_row100_col4\" class=\"data row100 col4\" >1</td>\n",
       "      <td id=\"T_57ae6_row100_col5\" class=\"data row100 col5\" >0</td>\n",
       "    </tr>\n",
       "    <tr>\n",
       "      <th id=\"T_57ae6_level0_row101\" class=\"row_heading level0 row101\" >являться</th>\n",
       "      <td id=\"T_57ae6_row101_col0\" class=\"data row101 col0\" >0</td>\n",
       "      <td id=\"T_57ae6_row101_col1\" class=\"data row101 col1\" >0</td>\n",
       "      <td id=\"T_57ae6_row101_col2\" class=\"data row101 col2\" >1</td>\n",
       "      <td id=\"T_57ae6_row101_col3\" class=\"data row101 col3\" >0</td>\n",
       "      <td id=\"T_57ae6_row101_col4\" class=\"data row101 col4\" >0</td>\n",
       "      <td id=\"T_57ae6_row101_col5\" class=\"data row101 col5\" >1</td>\n",
       "    </tr>\n",
       "    <tr>\n",
       "      <th id=\"T_57ae6_level0_row102\" class=\"row_heading level0 row102\" >9611333</th>\n",
       "      <td id=\"T_57ae6_row102_col0\" class=\"data row102 col0\" >0</td>\n",
       "      <td id=\"T_57ae6_row102_col1\" class=\"data row102 col1\" >0</td>\n",
       "      <td id=\"T_57ae6_row102_col2\" class=\"data row102 col2\" >1</td>\n",
       "      <td id=\"T_57ae6_row102_col3\" class=\"data row102 col3\" >0</td>\n",
       "      <td id=\"T_57ae6_row102_col4\" class=\"data row102 col4\" >0</td>\n",
       "      <td id=\"T_57ae6_row102_col5\" class=\"data row102 col5\" >0</td>\n",
       "    </tr>\n",
       "    <tr>\n",
       "      <th id=\"T_57ae6_level0_row103\" class=\"row_heading level0 row103\" >чёткость</th>\n",
       "      <td id=\"T_57ae6_row103_col0\" class=\"data row103 col0\" >0</td>\n",
       "      <td id=\"T_57ae6_row103_col1\" class=\"data row103 col1\" >0</td>\n",
       "      <td id=\"T_57ae6_row103_col2\" class=\"data row103 col2\" >0</td>\n",
       "      <td id=\"T_57ae6_row103_col3\" class=\"data row103 col3\" >0</td>\n",
       "      <td id=\"T_57ae6_row103_col4\" class=\"data row103 col4\" >0</td>\n",
       "      <td id=\"T_57ae6_row103_col5\" class=\"data row103 col5\" >1</td>\n",
       "    </tr>\n",
       "    <tr>\n",
       "      <th id=\"T_57ae6_level0_row104\" class=\"row_heading level0 row104\" >игра</th>\n",
       "      <td id=\"T_57ae6_row104_col0\" class=\"data row104 col0\" >0</td>\n",
       "      <td id=\"T_57ae6_row104_col1\" class=\"data row104 col1\" >0</td>\n",
       "      <td id=\"T_57ae6_row104_col2\" class=\"data row104 col2\" >0</td>\n",
       "      <td id=\"T_57ae6_row104_col3\" class=\"data row104 col3\" >1</td>\n",
       "      <td id=\"T_57ae6_row104_col4\" class=\"data row104 col4\" >0</td>\n",
       "      <td id=\"T_57ae6_row104_col5\" class=\"data row104 col5\" >0</td>\n",
       "    </tr>\n",
       "    <tr>\n",
       "      <th id=\"T_57ae6_level0_row105\" class=\"row_heading level0 row105\" >acuvue</th>\n",
       "      <td id=\"T_57ae6_row105_col0\" class=\"data row105 col0\" >1</td>\n",
       "      <td id=\"T_57ae6_row105_col1\" class=\"data row105 col1\" >0</td>\n",
       "      <td id=\"T_57ae6_row105_col2\" class=\"data row105 col2\" >1</td>\n",
       "      <td id=\"T_57ae6_row105_col3\" class=\"data row105 col3\" >1</td>\n",
       "      <td id=\"T_57ae6_row105_col4\" class=\"data row105 col4\" >1</td>\n",
       "      <td id=\"T_57ae6_row105_col5\" class=\"data row105 col5\" >0</td>\n",
       "    </tr>\n",
       "    <tr>\n",
       "      <th id=\"T_57ae6_level0_row106\" class=\"row_heading level0 row106\" >ясно</th>\n",
       "      <td id=\"T_57ae6_row106_col0\" class=\"data row106 col0\" >0</td>\n",
       "      <td id=\"T_57ae6_row106_col1\" class=\"data row106 col1\" >0</td>\n",
       "      <td id=\"T_57ae6_row106_col2\" class=\"data row106 col2\" >1</td>\n",
       "      <td id=\"T_57ae6_row106_col3\" class=\"data row106 col3\" >0</td>\n",
       "      <td id=\"T_57ae6_row106_col4\" class=\"data row106 col4\" >0</td>\n",
       "      <td id=\"T_57ae6_row106_col5\" class=\"data row106 col5\" >1</td>\n",
       "    </tr>\n",
       "    <tr>\n",
       "      <th id=\"T_57ae6_level0_row107\" class=\"row_heading level0 row107\" >hydraglyde</th>\n",
       "      <td id=\"T_57ae6_row107_col0\" class=\"data row107 col0\" >1</td>\n",
       "      <td id=\"T_57ae6_row107_col1\" class=\"data row107 col1\" >1</td>\n",
       "      <td id=\"T_57ae6_row107_col2\" class=\"data row107 col2\" >0</td>\n",
       "      <td id=\"T_57ae6_row107_col3\" class=\"data row107 col3\" >0</td>\n",
       "      <td id=\"T_57ae6_row107_col4\" class=\"data row107 col4\" >0</td>\n",
       "      <td id=\"T_57ae6_row107_col5\" class=\"data row107 col5\" >0</td>\n",
       "    </tr>\n",
       "    <tr>\n",
       "      <th id=\"T_57ae6_level0_row108\" class=\"row_heading level0 row108\" >biotrue</th>\n",
       "      <td id=\"T_57ae6_row108_col0\" class=\"data row108 col0\" >1</td>\n",
       "      <td id=\"T_57ae6_row108_col1\" class=\"data row108 col1\" >0</td>\n",
       "      <td id=\"T_57ae6_row108_col2\" class=\"data row108 col2\" >0</td>\n",
       "      <td id=\"T_57ae6_row108_col3\" class=\"data row108 col3\" >0</td>\n",
       "      <td id=\"T_57ae6_row108_col4\" class=\"data row108 col4\" >0</td>\n",
       "      <td id=\"T_57ae6_row108_col5\" class=\"data row108 col5\" >0</td>\n",
       "    </tr>\n",
       "    <tr>\n",
       "      <th id=\"T_57ae6_level0_row109\" class=\"row_heading level0 row109\" >гарантия</th>\n",
       "      <td id=\"T_57ae6_row109_col0\" class=\"data row109 col0\" >0</td>\n",
       "      <td id=\"T_57ae6_row109_col1\" class=\"data row109 col1\" >1</td>\n",
       "      <td id=\"T_57ae6_row109_col2\" class=\"data row109 col2\" >0</td>\n",
       "      <td id=\"T_57ae6_row109_col3\" class=\"data row109 col3\" >0</td>\n",
       "      <td id=\"T_57ae6_row109_col4\" class=\"data row109 col4\" >0</td>\n",
       "      <td id=\"T_57ae6_row109_col5\" class=\"data row109 col5\" >0</td>\n",
       "    </tr>\n",
       "    <tr>\n",
       "      <th id=\"T_57ae6_level0_row110\" class=\"row_heading level0 row110\" >непревзойдённый</th>\n",
       "      <td id=\"T_57ae6_row110_col0\" class=\"data row110 col0\" >0</td>\n",
       "      <td id=\"T_57ae6_row110_col1\" class=\"data row110 col1\" >1</td>\n",
       "      <td id=\"T_57ae6_row110_col2\" class=\"data row110 col2\" >0</td>\n",
       "      <td id=\"T_57ae6_row110_col3\" class=\"data row110 col3\" >0</td>\n",
       "      <td id=\"T_57ae6_row110_col4\" class=\"data row110 col4\" >0</td>\n",
       "      <td id=\"T_57ae6_row110_col5\" class=\"data row110 col5\" >0</td>\n",
       "    </tr>\n",
       "    <tr>\n",
       "      <th id=\"T_57ae6_level0_row111\" class=\"row_heading level0 row111\" >123индикатор</th>\n",
       "      <td id=\"T_57ae6_row111_col0\" class=\"data row111 col0\" >0</td>\n",
       "      <td id=\"T_57ae6_row111_col1\" class=\"data row111 col1\" >0</td>\n",
       "      <td id=\"T_57ae6_row111_col2\" class=\"data row111 col2\" >0</td>\n",
       "      <td id=\"T_57ae6_row111_col3\" class=\"data row111 col3\" >0</td>\n",
       "      <td id=\"T_57ae6_row111_col4\" class=\"data row111 col4\" >1</td>\n",
       "      <td id=\"T_57ae6_row111_col5\" class=\"data row111 col5\" >0</td>\n",
       "    </tr>\n",
       "    <tr>\n",
       "      <th id=\"T_57ae6_level0_row112\" class=\"row_heading level0 row112\" >26230</th>\n",
       "      <td id=\"T_57ae6_row112_col0\" class=\"data row112 col0\" >0</td>\n",
       "      <td id=\"T_57ae6_row112_col1\" class=\"data row112 col1\" >0</td>\n",
       "      <td id=\"T_57ae6_row112_col2\" class=\"data row112 col2\" >0</td>\n",
       "      <td id=\"T_57ae6_row112_col3\" class=\"data row112 col3\" >0</td>\n",
       "      <td id=\"T_57ae6_row112_col4\" class=\"data row112 col4\" >1</td>\n",
       "      <td id=\"T_57ae6_row112_col5\" class=\"data row112 col5\" >0</td>\n",
       "    </tr>\n",
       "    <tr>\n",
       "      <th id=\"T_57ae6_level0_row113\" class=\"row_heading level0 row113\" >изменить</th>\n",
       "      <td id=\"T_57ae6_row113_col0\" class=\"data row113 col0\" >0</td>\n",
       "      <td id=\"T_57ae6_row113_col1\" class=\"data row113 col1\" >1</td>\n",
       "      <td id=\"T_57ae6_row113_col2\" class=\"data row113 col2\" >0</td>\n",
       "      <td id=\"T_57ae6_row113_col3\" class=\"data row113 col3\" >0</td>\n",
       "      <td id=\"T_57ae6_row113_col4\" class=\"data row113 col4\" >0</td>\n",
       "      <td id=\"T_57ae6_row113_col5\" class=\"data row113 col5\" >0</td>\n",
       "    </tr>\n",
       "    <tr>\n",
       "      <th id=\"T_57ae6_level0_row114\" class=\"row_heading level0 row114\" >рисунок</th>\n",
       "      <td id=\"T_57ae6_row114_col0\" class=\"data row114 col0\" >0</td>\n",
       "      <td id=\"T_57ae6_row114_col1\" class=\"data row114 col1\" >1</td>\n",
       "      <td id=\"T_57ae6_row114_col2\" class=\"data row114 col2\" >0</td>\n",
       "      <td id=\"T_57ae6_row114_col3\" class=\"data row114 col3\" >0</td>\n",
       "      <td id=\"T_57ae6_row114_col4\" class=\"data row114 col4\" >0</td>\n",
       "      <td id=\"T_57ae6_row114_col5\" class=\"data row114 col5\" >0</td>\n",
       "    </tr>\n",
       "    <tr>\n",
       "      <th id=\"T_57ae6_level0_row115\" class=\"row_heading level0 row115\" >ежемесячный</th>\n",
       "      <td id=\"T_57ae6_row115_col0\" class=\"data row115 col0\" >1</td>\n",
       "      <td id=\"T_57ae6_row115_col1\" class=\"data row115 col1\" >1</td>\n",
       "      <td id=\"T_57ae6_row115_col2\" class=\"data row115 col2\" >0</td>\n",
       "      <td id=\"T_57ae6_row115_col3\" class=\"data row115 col3\" >0</td>\n",
       "      <td id=\"T_57ae6_row115_col4\" class=\"data row115 col4\" >0</td>\n",
       "      <td id=\"T_57ae6_row115_col5\" class=\"data row115 col5\" >0</td>\n",
       "    </tr>\n",
       "    <tr>\n",
       "      <th id=\"T_57ae6_level0_row116\" class=\"row_heading level0 row116\" >58</th>\n",
       "      <td id=\"T_57ae6_row116_col0\" class=\"data row116 col0\" >0</td>\n",
       "      <td id=\"T_57ae6_row116_col1\" class=\"data row116 col1\" >0</td>\n",
       "      <td id=\"T_57ae6_row116_col2\" class=\"data row116 col2\" >1</td>\n",
       "      <td id=\"T_57ae6_row116_col3\" class=\"data row116 col3\" >0</td>\n",
       "      <td id=\"T_57ae6_row116_col4\" class=\"data row116 col4\" >0</td>\n",
       "      <td id=\"T_57ae6_row116_col5\" class=\"data row116 col5\" >0</td>\n",
       "    </tr>\n",
       "    <tr>\n",
       "      <th id=\"T_57ae6_level0_row117\" class=\"row_heading level0 row117\" >избежать</th>\n",
       "      <td id=\"T_57ae6_row117_col0\" class=\"data row117 col0\" >0</td>\n",
       "      <td id=\"T_57ae6_row117_col1\" class=\"data row117 col1\" >0</td>\n",
       "      <td id=\"T_57ae6_row117_col2\" class=\"data row117 col2\" >0</td>\n",
       "      <td id=\"T_57ae6_row117_col3\" class=\"data row117 col3\" >1</td>\n",
       "      <td id=\"T_57ae6_row117_col4\" class=\"data row117 col4\" >0</td>\n",
       "      <td id=\"T_57ae6_row117_col5\" class=\"data row117 col5\" >0</td>\n",
       "    </tr>\n",
       "    <tr>\n",
       "      <th id=\"T_57ae6_level0_row118\" class=\"row_heading level0 row118\" >из</th>\n",
       "      <td id=\"T_57ae6_row118_col0\" class=\"data row118 col0\" >0</td>\n",
       "      <td id=\"T_57ae6_row118_col1\" class=\"data row118 col1\" >0</td>\n",
       "      <td id=\"T_57ae6_row118_col2\" class=\"data row118 col2\" >0</td>\n",
       "      <td id=\"T_57ae6_row118_col3\" class=\"data row118 col3\" >1</td>\n",
       "      <td id=\"T_57ae6_row118_col4\" class=\"data row118 col4\" >0</td>\n",
       "      <td id=\"T_57ae6_row118_col5\" class=\"data row118 col5\" >0</td>\n",
       "    </tr>\n",
       "    <tr>\n",
       "      <th id=\"T_57ae6_level0_row119\" class=\"row_heading level0 row119\" >значительно</th>\n",
       "      <td id=\"T_57ae6_row119_col0\" class=\"data row119 col0\" >0</td>\n",
       "      <td id=\"T_57ae6_row119_col1\" class=\"data row119 col1\" >0</td>\n",
       "      <td id=\"T_57ae6_row119_col2\" class=\"data row119 col2\" >0</td>\n",
       "      <td id=\"T_57ae6_row119_col3\" class=\"data row119 col3\" >1</td>\n",
       "      <td id=\"T_57ae6_row119_col4\" class=\"data row119 col4\" >0</td>\n",
       "      <td id=\"T_57ae6_row119_col5\" class=\"data row119 col5\" >0</td>\n",
       "    </tr>\n",
       "    <tr>\n",
       "      <th id=\"T_57ae6_level0_row120\" class=\"row_heading level0 row120\" >шесть</th>\n",
       "      <td id=\"T_57ae6_row120_col0\" class=\"data row120 col0\" >0</td>\n",
       "      <td id=\"T_57ae6_row120_col1\" class=\"data row120 col1\" >0</td>\n",
       "      <td id=\"T_57ae6_row120_col2\" class=\"data row120 col2\" >0</td>\n",
       "      <td id=\"T_57ae6_row120_col3\" class=\"data row120 col3\" >0</td>\n",
       "      <td id=\"T_57ae6_row120_col4\" class=\"data row120 col4\" >0</td>\n",
       "      <td id=\"T_57ae6_row120_col5\" class=\"data row120 col5\" >1</td>\n",
       "    </tr>\n",
       "    <tr>\n",
       "      <th id=\"T_57ae6_level0_row121\" class=\"row_heading level0 row121\" >180</th>\n",
       "      <td id=\"T_57ae6_row121_col0\" class=\"data row121 col0\" >0</td>\n",
       "      <td id=\"T_57ae6_row121_col1\" class=\"data row121 col1\" >0</td>\n",
       "      <td id=\"T_57ae6_row121_col2\" class=\"data row121 col2\" >0</td>\n",
       "      <td id=\"T_57ae6_row121_col3\" class=\"data row121 col3\" >0</td>\n",
       "      <td id=\"T_57ae6_row121_col4\" class=\"data row121 col4\" >1</td>\n",
       "      <td id=\"T_57ae6_row121_col5\" class=\"data row121 col5\" >0</td>\n",
       "    </tr>\n",
       "    <tr>\n",
       "      <th id=\"T_57ae6_level0_row122\" class=\"row_heading level0 row122\" >total30</th>\n",
       "      <td id=\"T_57ae6_row122_col0\" class=\"data row122 col0\" >1</td>\n",
       "      <td id=\"T_57ae6_row122_col1\" class=\"data row122 col1\" >0</td>\n",
       "      <td id=\"T_57ae6_row122_col2\" class=\"data row122 col2\" >0</td>\n",
       "      <td id=\"T_57ae6_row122_col3\" class=\"data row122 col3\" >0</td>\n",
       "      <td id=\"T_57ae6_row122_col4\" class=\"data row122 col4\" >0</td>\n",
       "      <td id=\"T_57ae6_row122_col5\" class=\"data row122 col5\" >0</td>\n",
       "    </tr>\n",
       "    <tr>\n",
       "      <th id=\"T_57ae6_level0_row123\" class=\"row_heading level0 row123\" >oasys</th>\n",
       "      <td id=\"T_57ae6_row123_col0\" class=\"data row123 col0\" >1</td>\n",
       "      <td id=\"T_57ae6_row123_col1\" class=\"data row123 col1\" >0</td>\n",
       "      <td id=\"T_57ae6_row123_col2\" class=\"data row123 col2\" >0</td>\n",
       "      <td id=\"T_57ae6_row123_col3\" class=\"data row123 col3\" >0</td>\n",
       "      <td id=\"T_57ae6_row123_col4\" class=\"data row123 col4\" >0</td>\n",
       "      <td id=\"T_57ae6_row123_col5\" class=\"data row123 col5\" >0</td>\n",
       "    </tr>\n",
       "    <tr>\n",
       "      <th id=\"T_57ae6_level0_row124\" class=\"row_heading level0 row124\" >55</th>\n",
       "      <td id=\"T_57ae6_row124_col0\" class=\"data row124 col0\" >0</td>\n",
       "      <td id=\"T_57ae6_row124_col1\" class=\"data row124 col1\" >0</td>\n",
       "      <td id=\"T_57ae6_row124_col2\" class=\"data row124 col2\" >1</td>\n",
       "      <td id=\"T_57ae6_row124_col3\" class=\"data row124 col3\" >0</td>\n",
       "      <td id=\"T_57ae6_row124_col4\" class=\"data row124 col4\" >0</td>\n",
       "      <td id=\"T_57ae6_row124_col5\" class=\"data row124 col5\" >0</td>\n",
       "    </tr>\n",
       "    <tr>\n",
       "      <th id=\"T_57ae6_level0_row125\" class=\"row_heading level0 row125\" >создание</th>\n",
       "      <td id=\"T_57ae6_row125_col0\" class=\"data row125 col0\" >0</td>\n",
       "      <td id=\"T_57ae6_row125_col1\" class=\"data row125 col1\" >1</td>\n",
       "      <td id=\"T_57ae6_row125_col2\" class=\"data row125 col2\" >0</td>\n",
       "      <td id=\"T_57ae6_row125_col3\" class=\"data row125 col3\" >0</td>\n",
       "      <td id=\"T_57ae6_row125_col4\" class=\"data row125 col4\" >0</td>\n",
       "      <td id=\"T_57ae6_row125_col5\" class=\"data row125 col5\" >0</td>\n",
       "    </tr>\n",
       "    <tr>\n",
       "      <th id=\"T_57ae6_level0_row126\" class=\"row_heading level0 row126\" >значительный</th>\n",
       "      <td id=\"T_57ae6_row126_col0\" class=\"data row126 col0\" >0</td>\n",
       "      <td id=\"T_57ae6_row126_col1\" class=\"data row126 col1\" >0</td>\n",
       "      <td id=\"T_57ae6_row126_col2\" class=\"data row126 col2\" >0</td>\n",
       "      <td id=\"T_57ae6_row126_col3\" class=\"data row126 col3\" >1</td>\n",
       "      <td id=\"T_57ae6_row126_col4\" class=\"data row126 col4\" >0</td>\n",
       "      <td id=\"T_57ae6_row126_col5\" class=\"data row126 col5\" >0</td>\n",
       "    </tr>\n",
       "    <tr>\n",
       "      <th id=\"T_57ae6_level0_row127\" class=\"row_heading level0 row127\" >1month</th>\n",
       "      <td id=\"T_57ae6_row127_col0\" class=\"data row127 col0\" >0</td>\n",
       "      <td id=\"T_57ae6_row127_col1\" class=\"data row127 col1\" >0</td>\n",
       "      <td id=\"T_57ae6_row127_col2\" class=\"data row127 col2\" >0</td>\n",
       "      <td id=\"T_57ae6_row127_col3\" class=\"data row127 col3\" >0</td>\n",
       "      <td id=\"T_57ae6_row127_col4\" class=\"data row127 col4\" >1</td>\n",
       "      <td id=\"T_57ae6_row127_col5\" class=\"data row127 col5\" >0</td>\n",
       "    </tr>\n",
       "    <tr>\n",
       "      <th id=\"T_57ae6_level0_row128\" class=\"row_heading level0 row128\" >000</th>\n",
       "      <td id=\"T_57ae6_row128_col0\" class=\"data row128 col0\" >1</td>\n",
       "      <td id=\"T_57ae6_row128_col1\" class=\"data row128 col1\" >1</td>\n",
       "      <td id=\"T_57ae6_row128_col2\" class=\"data row128 col2\" >1</td>\n",
       "      <td id=\"T_57ae6_row128_col3\" class=\"data row128 col3\" >0</td>\n",
       "      <td id=\"T_57ae6_row128_col4\" class=\"data row128 col4\" >1</td>\n",
       "      <td id=\"T_57ae6_row128_col5\" class=\"data row128 col5\" >0</td>\n",
       "    </tr>\n",
       "    <tr>\n",
       "      <th id=\"T_57ae6_level0_row129\" class=\"row_heading level0 row129\" >избавлять</th>\n",
       "      <td id=\"T_57ae6_row129_col0\" class=\"data row129 col0\" >0</td>\n",
       "      <td id=\"T_57ae6_row129_col1\" class=\"data row129 col1\" >0</td>\n",
       "      <td id=\"T_57ae6_row129_col2\" class=\"data row129 col2\" >0</td>\n",
       "      <td id=\"T_57ae6_row129_col3\" class=\"data row129 col3\" >1</td>\n",
       "      <td id=\"T_57ae6_row129_col4\" class=\"data row129 col4\" >0</td>\n",
       "      <td id=\"T_57ae6_row129_col5\" class=\"data row129 col5\" >0</td>\n",
       "    </tr>\n",
       "    <tr>\n",
       "      <th id=\"T_57ae6_level0_row130\" class=\"row_heading level0 row130\" >избавить</th>\n",
       "      <td id=\"T_57ae6_row130_col0\" class=\"data row130 col0\" >0</td>\n",
       "      <td id=\"T_57ae6_row130_col1\" class=\"data row130 col1\" >0</td>\n",
       "      <td id=\"T_57ae6_row130_col2\" class=\"data row130 col2\" >0</td>\n",
       "      <td id=\"T_57ae6_row130_col3\" class=\"data row130 col3\" >1</td>\n",
       "      <td id=\"T_57ae6_row130_col4\" class=\"data row130 col4\" >0</td>\n",
       "      <td id=\"T_57ae6_row130_col5\" class=\"data row130 col5\" >0</td>\n",
       "    </tr>\n",
       "    <tr>\n",
       "      <th id=\"T_57ae6_level0_row131\" class=\"row_heading level0 row131\" >эксклюзивный</th>\n",
       "      <td id=\"T_57ae6_row131_col0\" class=\"data row131 col0\" >0</td>\n",
       "      <td id=\"T_57ae6_row131_col1\" class=\"data row131 col1\" >0</td>\n",
       "      <td id=\"T_57ae6_row131_col2\" class=\"data row131 col2\" >0</td>\n",
       "      <td id=\"T_57ae6_row131_col3\" class=\"data row131 col3\" >0</td>\n",
       "      <td id=\"T_57ae6_row131_col4\" class=\"data row131 col4\" >0</td>\n",
       "      <td id=\"T_57ae6_row131_col5\" class=\"data row131 col5\" >1</td>\n",
       "    </tr>\n",
       "    <tr>\n",
       "      <th id=\"T_57ae6_level0_row132\" class=\"row_heading level0 row132\" >dailies</th>\n",
       "      <td id=\"T_57ae6_row132_col0\" class=\"data row132 col0\" >1</td>\n",
       "      <td id=\"T_57ae6_row132_col1\" class=\"data row132 col1\" >0</td>\n",
       "      <td id=\"T_57ae6_row132_col2\" class=\"data row132 col2\" >0</td>\n",
       "      <td id=\"T_57ae6_row132_col3\" class=\"data row132 col3\" >0</td>\n",
       "      <td id=\"T_57ae6_row132_col4\" class=\"data row132 col4\" >0</td>\n",
       "      <td id=\"T_57ae6_row132_col5\" class=\"data row132 col5\" >0</td>\n",
       "    </tr>\n",
       "    <tr>\n",
       "      <th id=\"T_57ae6_level0_row133\" class=\"row_heading level0 row133\" >3zone</th>\n",
       "      <td id=\"T_57ae6_row133_col0\" class=\"data row133 col0\" >0</td>\n",
       "      <td id=\"T_57ae6_row133_col1\" class=\"data row133 col1\" >0</td>\n",
       "      <td id=\"T_57ae6_row133_col2\" class=\"data row133 col2\" >0</td>\n",
       "      <td id=\"T_57ae6_row133_col3\" class=\"data row133 col3\" >0</td>\n",
       "      <td id=\"T_57ae6_row133_col4\" class=\"data row133 col4\" >1</td>\n",
       "      <td id=\"T_57ae6_row133_col5\" class=\"data row133 col5\" >0</td>\n",
       "    </tr>\n",
       "    <tr>\n",
       "      <th id=\"T_57ae6_level0_row134\" class=\"row_heading level0 row134\" >зрительный</th>\n",
       "      <td id=\"T_57ae6_row134_col0\" class=\"data row134 col0\" >0</td>\n",
       "      <td id=\"T_57ae6_row134_col1\" class=\"data row134 col1\" >0</td>\n",
       "      <td id=\"T_57ae6_row134_col2\" class=\"data row134 col2\" >0</td>\n",
       "      <td id=\"T_57ae6_row134_col3\" class=\"data row134 col3\" >1</td>\n",
       "      <td id=\"T_57ae6_row134_col4\" class=\"data row134 col4\" >0</td>\n",
       "      <td id=\"T_57ae6_row134_col5\" class=\"data row134 col5\" >0</td>\n",
       "    </tr>\n",
       "    <tr>\n",
       "      <th id=\"T_57ae6_level0_row135\" class=\"row_heading level0 row135\" >12</th>\n",
       "      <td id=\"T_57ae6_row135_col0\" class=\"data row135 col0\" >0</td>\n",
       "      <td id=\"T_57ae6_row135_col1\" class=\"data row135 col1\" >0</td>\n",
       "      <td id=\"T_57ae6_row135_col2\" class=\"data row135 col2\" >0</td>\n",
       "      <td id=\"T_57ae6_row135_col3\" class=\"data row135 col3\" >0</td>\n",
       "      <td id=\"T_57ae6_row135_col4\" class=\"data row135 col4\" >1</td>\n",
       "      <td id=\"T_57ae6_row135_col5\" class=\"data row135 col5\" >0</td>\n",
       "    </tr>\n",
       "    <tr>\n",
       "      <th id=\"T_57ae6_level0_row136\" class=\"row_heading level0 row136\" >134</th>\n",
       "      <td id=\"T_57ae6_row136_col0\" class=\"data row136 col0\" >0</td>\n",
       "      <td id=\"T_57ae6_row136_col1\" class=\"data row136 col1\" >0</td>\n",
       "      <td id=\"T_57ae6_row136_col2\" class=\"data row136 col2\" >0</td>\n",
       "      <td id=\"T_57ae6_row136_col3\" class=\"data row136 col3\" >0</td>\n",
       "      <td id=\"T_57ae6_row136_col4\" class=\"data row136 col4\" >1</td>\n",
       "      <td id=\"T_57ae6_row136_col5\" class=\"data row136 col5\" >0</td>\n",
       "    </tr>\n",
       "    <tr>\n",
       "      <th id=\"T_57ae6_level0_row137\" class=\"row_heading level0 row137\" >25</th>\n",
       "      <td id=\"T_57ae6_row137_col0\" class=\"data row137 col0\" >0</td>\n",
       "      <td id=\"T_57ae6_row137_col1\" class=\"data row137 col1\" >0</td>\n",
       "      <td id=\"T_57ae6_row137_col2\" class=\"data row137 col2\" >0</td>\n",
       "      <td id=\"T_57ae6_row137_col3\" class=\"data row137 col3\" >0</td>\n",
       "      <td id=\"T_57ae6_row137_col4\" class=\"data row137 col4\" >1</td>\n",
       "      <td id=\"T_57ae6_row137_col5\" class=\"data row137 col5\" >0</td>\n",
       "    </tr>\n",
       "  </tbody>\n",
       "</table>\n"
      ],
      "text/plain": [
       "<pandas.io.formats.style.Styler at 0x7f472a503530>"
      ]
     },
     "execution_count": 774,
     "metadata": {},
     "output_type": "execute_result"
    }
   ],
   "source": [
    "# Списки 30 признаков для каждого метода\n",
    "methods = [top_features_filter_1, top_features_filter_2, top_features_embedded_1, \n",
    "           top_features_embedded_2, top_features_wrapper_1, top_features_wrapper_2]\n",
    "\n",
    "# Создаем индикаторную матрицу\n",
    "feature_names = list(set(all_features))  # Объединяем все признаки\n",
    "df = pd.DataFrame(0, index=feature_names, columns=[f'Method{i+1}' for i in range(len(methods))])\n",
    "\n",
    "# Заполняем индикаторную матрицу\n",
    "for i, method in enumerate(methods):\n",
    "    df.loc[method, f'Method{i+1}'] = 1\n",
    "\n",
    "# Функция для выделения повторяющихся признаков в таблице\n",
    "def highlight_repeated(val):\n",
    "    return 'background-color: orange' if val == 1 else ''\n",
    "\n",
    "# Применяем стиль\n",
    "styled_df = df.style.apply(lambda x: [highlight_repeated(val) for val in x], axis=0)\n",
    "\n",
    "# Выводим таблицу с выделением\n",
    "styled_df"
   ]
  },
  {
   "cell_type": "code",
   "execution_count": null,
   "id": "0e9987a3-34f6-4243-ab48-943f5cf19050",
   "metadata": {},
   "outputs": [],
   "source": []
  },
  {
   "cell_type": "markdown",
   "id": "4b296358-5454-48a6-b3e1-6e517d7c17b5",
   "metadata": {},
   "source": [
    "### Качество работы классификаторов до выбора признаков"
   ]
  },
  {
   "cell_type": "code",
   "execution_count": 778,
   "id": "e53b5744-90a9-404a-8aea-356df899428b",
   "metadata": {},
   "outputs": [],
   "source": [
    "classifiers = [\n",
    "    (\"Logistic Regression\", LogisticRegression(max_iter=1000, random_state=42, C=0.1)),\n",
    "    (\"Support Vector Classifier\", SVC(random_state=42, C=1, kernel='rbf', gamma='scale')),\n",
    "    (\"Random Forest\", RandomForestClassifier(random_state=42, n_estimators=100, max_depth=10, min_samples_split=5, min_samples_leaf=2))\n",
    "]"
   ]
  },
  {
   "cell_type": "code",
   "execution_count": 780,
   "id": "f42a1fc0",
   "metadata": {},
   "outputs": [
    {
     "name": "stdout",
     "output_type": "stream",
     "text": [
      "Logistic Regression: 0.7396\n",
      "Support Vector Classifier: 0.9167\n",
      "Random Forest: 0.8542\n"
     ]
    }
   ],
   "source": [
    "best_model_before = \"\"\n",
    "best_score_before = float('-inf')\n",
    "\n",
    "cv = StratifiedKFold(n_splits=4, shuffle=True, random_state=42)\n",
    "\n",
    "for name, clf in classifiers:\n",
    "    # Используем кросс-валидацию для оценки точности\n",
    "    cv_scores = cross_val_score(clf, X, y, cv=cv)\n",
    "    mean_score = np.mean(cv_scores)\n",
    "    if mean_score > best_score_before:\n",
    "        best_model_before = name\n",
    "        best_score_before = mean_score\n",
    "    print(f\"{name}: {mean_score:.4f}\")"
   ]
  },
  {
   "cell_type": "code",
   "execution_count": 782,
   "id": "76ecbd28-0cde-47fa-9530-eac46acdcd8a",
   "metadata": {},
   "outputs": [
    {
     "name": "stdout",
     "output_type": "stream",
     "text": [
      "Лучшая точность до отбора признаков получена на модели Support Vector Classifier: 0.9167\n"
     ]
    }
   ],
   "source": [
    "print(f\"Лучшая точность до отбора признаков получена на модели {best_model_before}: {best_score_before:.4f}\")"
   ]
  },
  {
   "cell_type": "markdown",
   "id": "3985ea39-cf85-45d0-b03c-28223c78edf5",
   "metadata": {},
   "source": [
    "### Качество работы классификаторов после выбора признаков"
   ]
  },
  {
   "cell_type": "markdown",
   "id": "874b6a2c-5bd0-491a-a55b-f61e03d16e7c",
   "metadata": {},
   "source": [
    "#### Встроенные метода"
   ]
  },
  {
   "cell_type": "code",
   "execution_count": 786,
   "id": "02a197b8-8bb0-48f3-8140-762001332b69",
   "metadata": {},
   "outputs": [],
   "source": [
    "# Отбираем только выбранные признаки\n",
    "X_selected = X[top_features_embedded_1]"
   ]
  },
  {
   "cell_type": "code",
   "execution_count": 788,
   "id": "bba9d3ed-0889-49ef-be07-89ebc0e660ec",
   "metadata": {},
   "outputs": [],
   "source": [
    "best_selector = []\n",
    "best_selector_name = ''\n",
    "best_score_overall = float('-inf')"
   ]
  },
  {
   "cell_type": "code",
   "execution_count": 790,
   "id": "d801d41f-69d6-422d-8acd-30235d02b926",
   "metadata": {},
   "outputs": [
    {
     "name": "stdout",
     "output_type": "stream",
     "text": [
      "Logistic Regression: 0.5521\n",
      "Support Vector Classifier: 0.6562\n",
      "Random Forest: 0.6667\n"
     ]
    }
   ],
   "source": [
    "best_model_after = \"\"\n",
    "best_score_after = float('-inf')\n",
    "for name, clf in classifiers:\n",
    "    # Используем кросс-валидацию для оценки точности\n",
    "    cv_scores = cross_val_score(clf, X_selected, y, cv=cv)\n",
    "    mean_score = np.mean(cv_scores)\n",
    "    if mean_score > best_score_after:\n",
    "        best_model_after = name\n",
    "        best_score_after = mean_score\n",
    "    print(f\"{name}: {mean_score:.4f}\")"
   ]
  },
  {
   "cell_type": "code",
   "execution_count": 791,
   "id": "36e62d0d-6ec9-462c-90b2-4625b55ab365",
   "metadata": {},
   "outputs": [],
   "source": [
    "if best_score_after > best_score_overall:\n",
    "    best_score_overall = best_score_after\n",
    "    best_selector = top_features_embedded_1\n",
    "    best_selector_name = 'top_features_embedded_1'"
   ]
  },
  {
   "cell_type": "code",
   "execution_count": 792,
   "id": "a7e2c39d-9034-4f23-9a71-0abd8a665405",
   "metadata": {},
   "outputs": [
    {
     "name": "stdout",
     "output_type": "stream",
     "text": [
      "Лучшая точность после отбора признаков получена на модели Random Forest: 0.6667\n"
     ]
    }
   ],
   "source": [
    "print(f\"Лучшая точность после отбора признаков получена на модели {best_model_after}: {best_score_after:.4f}\")"
   ]
  },
  {
   "cell_type": "code",
   "execution_count": null,
   "id": "f823de94-4041-4f95-8f9e-fa8fdea938b0",
   "metadata": {},
   "outputs": [],
   "source": []
  },
  {
   "cell_type": "code",
   "execution_count": 794,
   "id": "c1c049fd",
   "metadata": {},
   "outputs": [],
   "source": [
    "# Отбираем только выбранные признаки\n",
    "X_selected = X[top_features_embedded_2]"
   ]
  },
  {
   "cell_type": "code",
   "execution_count": 799,
   "id": "3c8855ae",
   "metadata": {},
   "outputs": [
    {
     "name": "stdout",
     "output_type": "stream",
     "text": [
      "Logistic Regression: 0.5208\n",
      "Support Vector Classifier: 0.9688\n",
      "Random Forest: 0.9479\n"
     ]
    }
   ],
   "source": [
    "best_model_after = \"\"\n",
    "best_score_after = float('-inf')\n",
    "for name, clf in classifiers:\n",
    "    # Используем кросс-валидацию для оценки точности\n",
    "    cv_scores = cross_val_score(clf, X_selected, y, cv=cv)\n",
    "    mean_score = np.mean(cv_scores)\n",
    "    if mean_score > best_score_after:\n",
    "        best_model_after = name\n",
    "        best_score_after = mean_score\n",
    "    print(f\"{name}: {mean_score:.4f}\")"
   ]
  },
  {
   "cell_type": "code",
   "execution_count": 801,
   "id": "c303ca85-8a8f-41d3-b466-36a0efc18b46",
   "metadata": {},
   "outputs": [],
   "source": [
    "if best_score_after > best_score_overall:\n",
    "    best_score_overall = best_score_after\n",
    "    best_selector = top_features_embedded_2\n",
    "    best_selector_name = 'top_features_embedded_2'"
   ]
  },
  {
   "cell_type": "code",
   "execution_count": 803,
   "id": "5b3a5654",
   "metadata": {},
   "outputs": [
    {
     "name": "stdout",
     "output_type": "stream",
     "text": [
      "Лучшая точность после отбора признаков получена на модели Support Vector Classifier: 0.9688\n"
     ]
    }
   ],
   "source": [
    "print(f\"Лучшая точность после отбора признаков получена на модели {best_model_after}: {best_score_after:.4f}\")"
   ]
  },
  {
   "cell_type": "markdown",
   "id": "d802b2fb-1ae5-4abd-885e-717cb7be69c2",
   "metadata": {},
   "source": [
    "#### Методы фильтрации"
   ]
  },
  {
   "cell_type": "code",
   "execution_count": 805,
   "id": "6d54a31d",
   "metadata": {},
   "outputs": [],
   "source": [
    "# Отбираем только выбранные признаки\n",
    "X_selected = X[top_features_filter_1]"
   ]
  },
  {
   "cell_type": "code",
   "execution_count": 806,
   "id": "7a0fe80f",
   "metadata": {},
   "outputs": [
    {
     "name": "stdout",
     "output_type": "stream",
     "text": [
      "Logistic Regression: 0.7292\n",
      "Support Vector Classifier: 0.9688\n",
      "Random Forest: 0.9688\n"
     ]
    }
   ],
   "source": [
    "best_model_after = \"\"\n",
    "best_score_after = float('-inf')\n",
    "for name, clf in classifiers:\n",
    "    # Используем кросс-валидацию для оценки точности\n",
    "    cv_scores = cross_val_score(clf, X_selected, y, cv=cv)\n",
    "    mean_score = np.mean(cv_scores)\n",
    "    if mean_score > best_score_after:\n",
    "        best_model_after = name\n",
    "        best_score_after = mean_score\n",
    "    print(f\"{name}: {mean_score:.4f}\")"
   ]
  },
  {
   "cell_type": "code",
   "execution_count": 809,
   "id": "b6293198-b17c-4c85-95f0-c8bbe0b13591",
   "metadata": {},
   "outputs": [],
   "source": [
    "if best_score_after > best_score_overall:\n",
    "    best_score_overall = best_score_after\n",
    "    best_selector = top_features_filter_1\n",
    "    best_selector_name = 'top_features_filter_1'"
   ]
  },
  {
   "cell_type": "code",
   "execution_count": 810,
   "id": "7b38d1e0",
   "metadata": {},
   "outputs": [
    {
     "name": "stdout",
     "output_type": "stream",
     "text": [
      "Лучшая точность после отбора признаков получена на модели Support Vector Classifier: 0.9688\n"
     ]
    }
   ],
   "source": [
    "print(f\"Лучшая точность после отбора признаков получена на модели {best_model_after}: {best_score_after:.4f}\")"
   ]
  },
  {
   "cell_type": "code",
   "execution_count": null,
   "id": "8c37197b-4d61-40c9-a371-4be61439a475",
   "metadata": {},
   "outputs": [],
   "source": []
  },
  {
   "cell_type": "code",
   "execution_count": 815,
   "id": "a96e9f69",
   "metadata": {},
   "outputs": [],
   "source": [
    "# Отбираем только выбранные признаки\n",
    "X_selected = X[top_features_filter_2]"
   ]
  },
  {
   "cell_type": "code",
   "execution_count": 817,
   "id": "1764bc6a",
   "metadata": {},
   "outputs": [
    {
     "name": "stdout",
     "output_type": "stream",
     "text": [
      "Logistic Regression: 0.5625\n",
      "Support Vector Classifier: 0.8646\n",
      "Random Forest: 0.8854\n"
     ]
    }
   ],
   "source": [
    "best_model_after = \"\"\n",
    "best_score_after = float('-inf')\n",
    "for name, clf in classifiers:\n",
    "    # Используем кросс-валидацию для оценки точности\n",
    "    cv_scores = cross_val_score(clf, X_selected, y, cv=cv)\n",
    "    mean_score = np.mean(cv_scores)\n",
    "    if mean_score > best_score_after:\n",
    "        best_model_after = name\n",
    "        best_score_after = mean_score\n",
    "    print(f\"{name}: {mean_score:.4f}\")"
   ]
  },
  {
   "cell_type": "code",
   "execution_count": 818,
   "id": "5a5bc7f0-67b9-4513-904f-8f4e33a1ce9e",
   "metadata": {},
   "outputs": [],
   "source": [
    "if best_score_after > best_score_overall:\n",
    "    best_score_overall = best_score_after\n",
    "    best_selector = top_features_filter_2\n",
    "    best_selector_name = 'top_features_filter_2'"
   ]
  },
  {
   "cell_type": "code",
   "execution_count": 819,
   "id": "5b10eaf9",
   "metadata": {},
   "outputs": [
    {
     "name": "stdout",
     "output_type": "stream",
     "text": [
      "Лучшая точность после отбора признаков получена на модели Random Forest: 0.8854\n"
     ]
    }
   ],
   "source": [
    "print(f\"Лучшая точность после отбора признаков получена на модели {best_model_after}: {best_score_after:.4f}\")"
   ]
  },
  {
   "cell_type": "markdown",
   "id": "b6cd582c-3a0c-4199-83e4-a5fea2f8e71a",
   "metadata": {},
   "source": [
    "#### Методы-обёртки"
   ]
  },
  {
   "cell_type": "code",
   "execution_count": 821,
   "id": "3d8e6753",
   "metadata": {},
   "outputs": [],
   "source": [
    "# Отбираем только выбранные признаки\n",
    "X_selected = X[top_features_wrapper_1]"
   ]
  },
  {
   "cell_type": "code",
   "execution_count": 822,
   "id": "53c9ca91",
   "metadata": {},
   "outputs": [
    {
     "name": "stdout",
     "output_type": "stream",
     "text": [
      "Logistic Regression: 0.5421\n",
      "Support Vector Classifier: 0.9895\n",
      "Random Forest: 0.9789\n"
     ]
    }
   ],
   "source": [
    "best_model_after = \"\"\n",
    "best_score_after = float('-inf')\n",
    "for name, clf in classifiers:\n",
    "    # Используем кросс-валидацию для оценки точности\n",
    "    cv_scores = cross_val_score(clf, X_selected, y, cv=5)\n",
    "    mean_score = np.mean(cv_scores)\n",
    "    if mean_score > best_score_after:\n",
    "        best_model_after = name\n",
    "        best_score_after = mean_score\n",
    "    print(f\"{name}: {mean_score:.4f}\")"
   ]
  },
  {
   "cell_type": "code",
   "execution_count": 823,
   "id": "daae513e-007b-43f9-8bb3-aa5a88a31243",
   "metadata": {},
   "outputs": [],
   "source": [
    "if best_score_after > best_score_overall:\n",
    "    best_score_overall = best_score_after\n",
    "    best_selector = top_features_wrapper_1\n",
    "    best_selector_name = 'top_features_wrapper_1'"
   ]
  },
  {
   "cell_type": "code",
   "execution_count": 824,
   "id": "e3a8b9d7",
   "metadata": {},
   "outputs": [
    {
     "name": "stdout",
     "output_type": "stream",
     "text": [
      "Лучшая точность после отбора признаков получена на модели Support Vector Classifier: 0.9895\n"
     ]
    }
   ],
   "source": [
    "print(f\"Лучшая точность после отбора признаков получена на модели {best_model_after}: {best_score_after:.4f}\")"
   ]
  },
  {
   "cell_type": "code",
   "execution_count": null,
   "id": "77abec80-6857-43cc-ac46-b385fcac207b",
   "metadata": {},
   "outputs": [],
   "source": []
  },
  {
   "cell_type": "code",
   "execution_count": 828,
   "id": "645fac26",
   "metadata": {},
   "outputs": [],
   "source": [
    "# Отбираем только выбранные признаки\n",
    "X_selected = X[top_features_wrapper_2]"
   ]
  },
  {
   "cell_type": "code",
   "execution_count": 835,
   "id": "3ba3ac38",
   "metadata": {},
   "outputs": [
    {
     "name": "stdout",
     "output_type": "stream",
     "text": [
      "Logistic Regression: 0.5211\n",
      "Support Vector Classifier: 0.5842\n",
      "Random Forest: 0.4595\n"
     ]
    }
   ],
   "source": [
    "best_model_after = \"\"\n",
    "best_score_after = float('-inf')\n",
    "for name, clf in classifiers:\n",
    "    # Используем кросс-валидацию для оценки точности\n",
    "    cv_scores = cross_val_score(clf, X_selected, y, cv=5)\n",
    "    mean_score = np.mean(cv_scores)\n",
    "    if mean_score > best_score_after:\n",
    "        best_model_after = name\n",
    "        best_score_after = mean_score\n",
    "    print(f\"{name}: {mean_score:.4f}\")"
   ]
  },
  {
   "cell_type": "code",
   "execution_count": 836,
   "id": "21fc9745-3187-47bd-8111-a55d796672c1",
   "metadata": {},
   "outputs": [],
   "source": [
    "if best_score_after > best_score_overall:\n",
    "    best_score_overall = best_score_after\n",
    "    best_selector = top_features_wrapper_2\n",
    "    best_selector_name = 'top_features_wrapper_2'"
   ]
  },
  {
   "cell_type": "code",
   "execution_count": 837,
   "id": "ee3424b8",
   "metadata": {},
   "outputs": [
    {
     "name": "stdout",
     "output_type": "stream",
     "text": [
      "Лучшая точность после отбора признаков получена на модели Support Vector Classifier: 0.5842\n"
     ]
    }
   ],
   "source": [
    "print(f\"Лучшая точность после отбора признаков получена на модели {best_model_after}: {best_score_after:.4f}\")"
   ]
  },
  {
   "cell_type": "code",
   "execution_count": null,
   "id": "b178e2e6-05e9-4ffd-b39c-aeb37a8de593",
   "metadata": {},
   "outputs": [],
   "source": []
  },
  {
   "cell_type": "markdown",
   "id": "cde198a1-58a3-48cf-b2fb-df941250a828",
   "metadata": {},
   "source": [
    "#### Выбранный метод отбора признаков - "
   ]
  },
  {
   "cell_type": "code",
   "execution_count": 840,
   "id": "a09605da-10e7-491c-a043-916de9f0fd05",
   "metadata": {},
   "outputs": [
    {
     "name": "stdout",
     "output_type": "stream",
     "text": [
      "0.9895\n"
     ]
    }
   ],
   "source": [
    "print(f'{best_score_overall:.4f}')"
   ]
  },
  {
   "cell_type": "code",
   "execution_count": 841,
   "id": "818b709b-66ae-4f82-83fa-48f937d708ca",
   "metadata": {},
   "outputs": [
    {
     "name": "stdout",
     "output_type": "stream",
     "text": [
      "top_features_wrapper_1\n"
     ]
    }
   ],
   "source": [
    "print(best_selector_name)"
   ]
  },
  {
   "cell_type": "code",
   "execution_count": 843,
   "id": "490e4993-1412-484c-8552-b3986fd0256f",
   "metadata": {},
   "outputs": [],
   "source": [
    "X_selected = X[best_selector]"
   ]
  },
  {
   "cell_type": "markdown",
   "id": "73d1866b-ba40-4360-b8bd-5e121175c53f",
   "metadata": {},
   "source": [
    "## Кластеризация данных"
   ]
  },
  {
   "cell_type": "markdown",
   "id": "fc0b15f8-232a-46ec-8d61-2b47cca7071d",
   "metadata": {},
   "source": [
    "### Кластеризация данных до выбора признаков"
   ]
  },
  {
   "cell_type": "code",
   "execution_count": 846,
   "id": "14a086a6-e412-49aa-ab0f-15bb2876540e",
   "metadata": {},
   "outputs": [],
   "source": [
    "def k_means(X, k, max_iters=100, tol=1e-4):\n",
    "    # Преобразуем X в numpy-массив, если он является DataFrame\n",
    "    if isinstance(X, pd.DataFrame):\n",
    "        X = X.to_numpy()\n",
    "\n",
    "    # Шаг 1: случайная инициализация центров кластеров\n",
    "    centers = X[np.random.choice(X.shape[0], k, replace=False)]\n",
    "\n",
    "    for i in range(max_iters):\n",
    "        # Шаг 2: Присваиваем объекты к ближайшему кластеру\n",
    "        distances = np.linalg.norm(X[:, np.newaxis] - centers, axis=2)  # расстояние до центров кластеров\n",
    "        labels = np.argmin(distances, axis=1)\n",
    "\n",
    "        # Шаг 3: Пересчитываем центры кластеров\n",
    "        new_centers = np.array([X[labels == j].mean(axis=0) for j in range(k)])\n",
    "\n",
    "        # Шаг 4: Проверяем условие остановки\n",
    "        if np.linalg.norm(new_centers - centers) < tol:\n",
    "            break\n",
    "        centers = new_centers\n",
    "\n",
    "    return centers, labels"
   ]
  },
  {
   "cell_type": "code",
   "execution_count": 847,
   "id": "36bfe2be-7424-44b1-930f-eccca2d6490b",
   "metadata": {},
   "outputs": [],
   "source": [
    "# Кластеризация до выбора признаков\n",
    "k = 2  # Количество кластеров\n",
    "centers_before, labels_before = k_means(X, k)"
   ]
  },
  {
   "cell_type": "code",
   "execution_count": 848,
   "id": "c3086168-6ec6-4620-a64e-d72c000e56bc",
   "metadata": {},
   "outputs": [],
   "source": [
    "# Оценка качества кластеризации до выбора признаков\n",
    "silhouette_before = silhouette_score(X, labels_before)\n",
    "v_measure_before = v_measure_score(y, labels_before)"
   ]
  },
  {
   "cell_type": "code",
   "execution_count": 849,
   "id": "8ce659c8-3575-42f7-8d97-91c11a78e228",
   "metadata": {},
   "outputs": [
    {
     "name": "stdout",
     "output_type": "stream",
     "text": [
      "Silhouette Score (before feature selection): 0.0321\n",
      "V-Measure (before feature selection): 0.0013\n"
     ]
    }
   ],
   "source": [
    "print(f\"Silhouette Score (before feature selection): {silhouette_before:.4f}\")\n",
    "print(f\"V-Measure (before feature selection): {v_measure_before:.4f}\")"
   ]
  },
  {
   "cell_type": "markdown",
   "id": "478ec14f-ed19-44e7-b27b-b862b348e51c",
   "metadata": {},
   "source": [
    "### Кластеризация данных после выбора признаков"
   ]
  },
  {
   "cell_type": "code",
   "execution_count": 860,
   "id": "139b0557-d415-4251-929e-df7a31c0795a",
   "metadata": {},
   "outputs": [],
   "source": [
    "# Кластеризация после выбора признаков\n",
    "centers_after, labels_after = k_means(X_selected, k)"
   ]
  },
  {
   "cell_type": "code",
   "execution_count": 861,
   "id": "63abbdb7-f3f1-42e3-b563-44502bf1e608",
   "metadata": {},
   "outputs": [],
   "source": [
    "# Оценка качества кластеризации после выбора признаков\n",
    "silhouette_after = silhouette_score(X_selected, labels_after) # измеряет, насколько хорошо объекты сгруппированы внутри кластеров по сравнению с ближайшими кластерами\n",
    "v_measure_after = v_measure_score(y, labels_after) # оценивает соответствие кластеров истинным меткам классов"
   ]
  },
  {
   "cell_type": "code",
   "execution_count": 864,
   "id": "460c339a-b56c-4eaf-87c1-0598172c05d7",
   "metadata": {},
   "outputs": [
    {
     "name": "stdout",
     "output_type": "stream",
     "text": [
      "Silhouette Score (after feature selection): 0.4499\n",
      "V-Measure (after feature selection): 0.2549\n"
     ]
    }
   ],
   "source": [
    "print(f\"Silhouette Score (after feature selection): {silhouette_after:.4f}\")\n",
    "print(f\"V-Measure (after feature selection): {v_measure_after:.4f}\")"
   ]
  },
  {
   "cell_type": "code",
   "execution_count": 866,
   "id": "c9595ee0-9fa6-4282-9c17-3f3b804077b0",
   "metadata": {},
   "outputs": [],
   "source": [
    "# 1 - объекты имеют в основном правильное распределение по кластерам, но все еще присутствуют некоторые пересечения между кластерами.\n",
    "# 2 - указывает на слабую степень согласованности между кластерами и реальными классами,  возможно, данные не легко разделимы на четкие группы."
   ]
  },
  {
   "cell_type": "markdown",
   "id": "62808200-fa3f-498f-8469-9b579ebae95c",
   "metadata": {},
   "source": [
    "## Уменьшение размерности данных"
   ]
  },
  {
   "cell_type": "markdown",
   "id": "c8324c3e-f2dd-4b7c-8f7f-709a18d44394",
   "metadata": {},
   "source": [
    "### Метод PCA"
   ]
  },
  {
   "cell_type": "code",
   "execution_count": 870,
   "id": "2b7cfe55-ca12-49bb-aa63-336b82b00b3b",
   "metadata": {},
   "outputs": [
    {
     "name": "stderr",
     "output_type": "stream",
     "text": [
      "/home/smarkelova/anaconda3/lib/python3.12/site-packages/sklearn/base.py:493: UserWarning: X does not have valid feature names, but PCA was fitted with feature names\n",
      "  warnings.warn(\n",
      "/home/smarkelova/anaconda3/lib/python3.12/site-packages/sklearn/base.py:493: UserWarning: X does not have valid feature names, but PCA was fitted with feature names\n",
      "  warnings.warn(\n"
     ]
    }
   ],
   "source": [
    "# PCA: Уменьшаем размерность до 2\n",
    "pca = PCA(n_components=2)\n",
    "X_pca_before = pca.fit_transform(X)\n",
    "centers_before = pca.transform(centers_before)\n",
    "\n",
    "# PCA: Уменьшаем размерность до 2 с отобранными признаками\n",
    "X_pca_after = pca.fit_transform(X_selected)\n",
    "centers_after = pca.transform(centers_after)"
   ]
  },
  {
   "cell_type": "code",
   "execution_count": 872,
   "id": "3175ea86-5ed3-45ab-9274-1ebb487f6109",
   "metadata": {},
   "outputs": [
    {
     "data": {
      "image/png": "[encoded data removed]",
      "text/plain": [
       "<Figure size 1200x600 with 2 Axes>"
      ]
     },
     "metadata": {},
     "output_type": "display_data"
    }
   ],
   "source": [
    "# До выбора признаков\n",
    "plt.figure(figsize=(12, 6))\n",
    "\n",
    "plt.subplot(1, 2, 1)\n",
    "for label in np.unique(y):\n",
    "    plt.scatter(\n",
    "        X_pca_before[y == label, 0], X_pca_before[y == label, 1],\n",
    "        label=f'Class {label}', marker='o' \n",
    "    )\n",
    "plt.scatter(centers_before[:, 0], centers_before[:, 1], c='red', marker='X', s=200, label='Centers')\n",
    "plt.title('K-means Clustering Before Feature Selection (PCA)')\n",
    "plt.xlabel('PCA Component 1')\n",
    "plt.ylabel('PCA Component 2')\n",
    "plt.legend()\n",
    "\n",
    "# После выбора признаков\n",
    "plt.subplot(1, 2, 2)\n",
    "for label in np.unique(y):\n",
    "    plt.scatter(\n",
    "        X_pca_after[y == label, 0], X_pca_after[y == label, 1],\n",
    "        label=f'Class {label}', marker='o' \n",
    "    )\n",
    "plt.scatter(centers_after[:, 0], centers_after[:, 1], c='red', marker='X', s=200, label='Centers')\n",
    "plt.title('K-means Clustering After Feature Selection (PCA)')\n",
    "plt.xlabel('PCA Component 1')\n",
    "plt.ylabel('PCA Component 2')\n",
    "plt.legend()\n",
    "\n",
    "plt.tight_layout()\n",
    "plt.show()"
   ]
  },
  {
   "cell_type": "code",
   "execution_count": null,
   "id": "450801a2-6c39-4acc-9178-c43e36e7357a",
   "metadata": {},
   "outputs": [],
   "source": []
  },
  {
   "cell_type": "markdown",
   "id": "79397f8a-1a2a-44c6-b7a7-26fcd963fdc4",
   "metadata": {},
   "source": [
    "### Метод tSNE"
   ]
  },
  {
   "cell_type": "code",
   "execution_count": 876,
   "id": "cc68b9d2-ba4c-4384-80f8-c42019d3e68c",
   "metadata": {},
   "outputs": [],
   "source": [
    "# t-SNE: Уменьшаем размерность до 2\n",
    "tsne = TSNE(\n",
    "    n_components=2,\n",
    "    perplexity=10,\n",
    "    metric=\"euclidean\",\n",
    "    n_jobs=8,\n",
    "    random_state=42,\n",
    "    verbose=False\n",
    ")\n",
    "X_tsne_before = tsne.fit(X)\n",
    "\n",
    "# t-SNE: Уменьшаем размерность до 2 с отобранными признаками\n",
    "X_tsne_after = tsne.fit(X_selected)"
   ]
  },
  {
   "cell_type": "code",
   "execution_count": 877,
   "id": "264ddb45-19ce-4175-9b71-235a9280f54b",
   "metadata": {},
   "outputs": [
    {
     "data": {
      "image/png": "[encoded data removed]",
      "text/plain": [
       "<Figure size 1200x600 with 2 Axes>"
      ]
     },
     "metadata": {},
     "output_type": "display_data"
    }
   ],
   "source": [
    "# Визуализация t-SNE (до выбора признаков)\n",
    "\n",
    "plt.figure(figsize=(12, 6))\n",
    "\n",
    "plt.subplot(1, 2, 1)\n",
    "for label in np.unique(y):\n",
    "    plt.scatter(\n",
    "        X_tsne_before[y == label, 0], X_tsne_before[y == label, 1],\n",
    "        label=f'Class {label}', marker='o'\n",
    "    )\n",
    "plt.scatter(centers_before[:, 0], centers_before[:, 1], \n",
    "            c='red', marker='X', s=200, label='Centers')\n",
    "plt.title('K-means Clustering Before Feature Selection (t-SNE)')\n",
    "plt.xlabel('t-SNE Component 1')\n",
    "plt.ylabel('t-SNE Component 2')\n",
    "plt.legend()\n",
    "\n",
    "# Визуализация t-SNE (после выбора признаков)\n",
    "plt.subplot(1, 2, 2)\n",
    "for label in np.unique(y):\n",
    "    plt.scatter(\n",
    "        X_tsne_after[y == label, 0], X_tsne_after[y == label, 1],\n",
    "        label=f'Class {label}', marker='o'\n",
    "    )\n",
    "plt.scatter(centers_after[:, 0], centers_after[:, 1], \n",
    "            c='red', marker='X', s=200, label='Centers')\n",
    "plt.title('K-means Clustering After Feature Selection (t-SNE)')\n",
    "plt.xlabel('t-SNE Component 1')\n",
    "plt.ylabel('t-SNE Component 2')\n",
    "plt.legend()\n",
    "\n",
    "plt.tight_layout()\n",
    "plt.show()"
   ]
  },
  {
   "cell_type": "code",
   "execution_count": null,
   "id": "19dd49f9-dc75-4590-a0ce-bbfd734c5133",
   "metadata": {},
   "outputs": [],
   "source": []
  }
 ],
 "metadata": {
  "kernelspec": {
   "display_name": "Python 3 (ipykernel)",
   "language": "python",
   "name": "python3"
  },
  "language_info": {
   "codemirror_mode": {
    "name": "ipython",
    "version": 3
   },
   "file_extension": ".py",
   "mimetype": "text/x-python",
   "name": "python",
   "nbconvert_exporter": "python",
   "pygments_lexer": "ipython3",
   "version": "3.12.4"
  }
 },
 "nbformat": 4,
 "nbformat_minor": 5
}
